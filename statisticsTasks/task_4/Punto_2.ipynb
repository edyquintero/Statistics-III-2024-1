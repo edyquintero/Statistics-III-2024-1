{
  "nbformat": 4,
  "nbformat_minor": 0,
  "metadata": {
    "colab": {
      "provenance": []
    },
    "kernelspec": {
      "name": "python3",
      "display_name": "Python 3"
    },
    "language_info": {
      "name": "python"
    }
  },
  "cells": [
    {
      "cell_type": "code",
      "execution_count": 56,
      "metadata": {
        "colab": {
          "base_uri": "https://localhost:8080/"
        },
        "id": "7XTSKl36jd2R",
        "outputId": "7322489a-d7b9-417c-823e-f2fd7811d76f"
      },
      "outputs": [
        {
          "output_type": "stream",
          "name": "stderr",
          "text": [
            "[nltk_data] Downloading package stopwords to /root/nltk_data...\n",
            "[nltk_data]   Package stopwords is already up-to-date!\n"
          ]
        },
        {
          "output_type": "execute_result",
          "data": {
            "text/plain": [
              "True"
            ]
          },
          "metadata": {},
          "execution_count": 56
        }
      ],
      "source": [
        "# Importar las bibliotecas necesarias\n",
        "import pandas as pd\n",
        "import numpy as np\n",
        "import matplotlib.pyplot as plt\n",
        "import seaborn as sns\n",
        "import re\n",
        "import unicodedata\n",
        "from collections import defaultdict\n",
        "from nltk.corpus import stopwords\n",
        "from nltk.tokenize.toktok import ToktokTokenizer\n",
        "from sklearn.model_selection import train_test_split\n",
        "from sklearn.linear_model import LogisticRegression\n",
        "from sklearn.ensemble import RandomForestClassifier\n",
        "from sklearn.metrics import confusion_matrix, accuracy_score, precision_score, recall_score\n",
        "from keras.preprocessing.text import Tokenizer\n",
        "from keras.preprocessing.sequence import pad_sequences\n",
        "from keras.models import Sequential\n",
        "from keras.layers import Embedding, LSTM, Dense\n",
        "import tensorflow as tf  # Importar TensorFlow\n",
        "from nltk.stem.porter import PorterStemmer\n",
        "import nltk\n",
        "nltk.download('stopwords')\n",
        "\n",
        "# Configuración de credenciales de la API de Kaggle\n",
        "#! mkdir ~/.kaggle\n",
        "#! cp kaggle.json ~/.kaggle/\n",
        "#! chmod 600 ~/.kaggle/kaggle.json\n",
        "#! kaggle competitions download -c clasificar-texto-lstm\n",
        "#! unzip clasificar-texto-lstm.zip\n"
      ]
    },
    {
      "cell_type": "code",
      "source": [
        "# Cargar datos de entrenamiento y prueba\n",
        "df_train = pd.read_csv('train.csv')\n",
        "df_test = pd.read_csv('test.csv')\n",
        "lista_titulos = df_train['titulo'].tolist()\n",
        "\n",
        "# Inicializar tokenizer y stopwords\n",
        "tokenizador = ToktokTokenizer()\n",
        "stopwords_espanol = set(stopwords.words('spanish'))\n",
        "\n",
        "# Función para remover acentos\n",
        "def eliminar_acentos(texto):\n",
        "    return ''.join(c for c in unicodedata.normalize('NFKD', texto) if not unicodedata.combining(c))\n",
        "\n",
        "# Función para preprocesar texto\n",
        "def preprocesar_texto(texto):\n",
        "    texto = eliminar_acentos(texto)\n",
        "    texto = texto.lower()\n",
        "    texto = re.sub(r'\\W+', ' ', texto)\n",
        "    return texto\n",
        "\n",
        "# Función para aplicar stemming\n",
        "def aplicacion_stemming(texto):\n",
        "    stemmer = PorterStemmer()\n",
        "    tokens = tokenizador.tokenize(texto)\n",
        "    tokens = [stemmer.stem(token.strip()) for token in tokens if token not in stopwords_espanol]\n",
        "    return \" \".join(tokens).strip('\"')\n",
        "\n",
        "# Función para contar palabras\n",
        "def contar_palabras(titulos):\n",
        "    dicc_palabras = defaultdict(int)\n",
        "    for titulo in titulos:\n",
        "        titulo_preprocesado = preprocesar_texto(titulo)\n",
        "        palabras = titulo_preprocesado.split()\n",
        "        for palabra in palabras:\n",
        "            dicc_palabras[palabra] += 1\n",
        "    return dicc_palabras\n",
        "\n",
        "# Preprocesar y aplicar stemming a los títulos\n",
        "titulos_procesados = [aplicacion_stemming(preprocesar_texto(titulo)) for titulo in lista_titulos]\n",
        "cuenta_palabras = contar_palabras(titulos_procesados)\n",
        "\n",
        "# Contar total de palabras únicas y repeticiones\n",
        "total_palabras_unicas = len(cuenta_palabras)\n",
        "total_repeticiones_palabras = sum(cuenta_palabras.values())\n",
        "\n",
        "print(f'Total de palabras únicas: {total_palabras_unicas}')\n",
        "print(f'Total de palabras repetidas: {total_repeticiones_palabras}')\n"
      ],
      "metadata": {
        "colab": {
          "base_uri": "https://localhost:8080/"
        },
        "id": "haIE8eOAjsCE",
        "outputId": "9db435db-adcb-4b86-e158-a44785c2fb6f"
      },
      "execution_count": 57,
      "outputs": [
        {
          "output_type": "stream",
          "name": "stdout",
          "text": [
            "Total de palabras únicas: 1687\n",
            "Total de palabras repetidas: 4323\n"
          ]
        }
      ]
    },
    {
      "cell_type": "code",
      "source": [
        "# Crear índice de palabras\n",
        "lista_palabras_unicas = list(cuenta_palabras.keys())\n",
        "indice_palabras = {palabra: i for i, palabra in enumerate(lista_palabras_unicas)}\n",
        "\n",
        "# Crear matriz de palabras\n",
        "matriz_palabras = np.zeros((len(df_train), len(lista_palabras_unicas)))\n",
        "for i, titulo in enumerate(titulos_procesados):\n",
        "    palabras = titulo.split()\n",
        "    for palabra in palabras:\n",
        "        if palabra in indice_palabras:\n",
        "            matriz_palabras[i, indice_palabras[palabra]] += 1\n",
        "\n",
        "# Obtener palabras más frecuentes\n",
        "cuentas_ordenadas = sorted(cuenta_palabras.items(), key=lambda item: item[1], reverse=True)\n",
        "print(\"Palabras más frecuentes:\")\n",
        "for palabra, cuenta in cuentas_ordenadas[:20]:\n",
        "    print(f\"{palabra}: {cuenta}\")\n",
        "\n",
        "frecuencias = [cuenta for palabra, cuenta in cuentas_ordenadas]\n",
        "\n",
        "# Graficar distribución de frecuencia de palabras\n",
        "plt.figure(figsize=(10, 6))\n",
        "plt.plot(frecuencias)\n",
        "plt.yscale('log')\n",
        "plt.title('Distribución de Frecuencia de Palabras')\n",
        "plt.xlabel('Palabra')\n",
        "plt.ylabel('Frecuencia')\n",
        "plt.show()\n"
      ],
      "metadata": {
        "colab": {
          "base_uri": "https://localhost:8080/",
          "height": 928
        },
        "id": "wuG1RAe-jx8C",
        "outputId": "62676f6e-afb0-40a4-df22-df56c73f6422"
      },
      "execution_count": 58,
      "outputs": [
        {
          "output_type": "stream",
          "name": "stdout",
          "text": [
            "Palabras más frecuentes:\n",
            "vemo: 206\n",
            "televident: 95\n",
            "capitulo: 67\n",
            "glosario: 54\n",
            "senal: 48\n",
            "cine: 38\n",
            "completo: 33\n",
            "m: 32\n",
            "today: 32\n",
            "in: 32\n",
            "replay: 32\n",
            "colombia: 31\n",
            "30: 30\n",
            "p: 29\n",
            "00: 28\n",
            "6: 25\n",
            "saludo: 23\n",
            "2: 21\n",
            "mundial: 21\n",
            "directo: 20\n"
          ]
        },
        {
          "output_type": "display_data",
          "data": {
            "text/plain": [
              "<Figure size 1000x600 with 1 Axes>"
            ],
            "image/png": "[encoded data removed]"
          },
          "metadata": {}
        }
      ]
    },
    {
      "cell_type": "code",
      "source": [
        "# Filtrar stopwords\n",
        "palabras_filtradas = [palabra for palabra in lista_palabras_unicas if palabra not in stopwords_espanol]\n",
        "indice_palabras_filtradas = {palabra: i for i, palabra in enumerate(palabras_filtradas)}\n",
        "\n",
        "# Crear matriz de palabras filtradas\n",
        "matriz_palabras_filtradas = np.zeros((len(df_train), len(palabras_filtradas)))\n",
        "for i, titulo in enumerate(titulos_procesados):\n",
        "    palabras = titulo.split()\n",
        "    for palabra in palabras:\n",
        "        if palabra in indice_palabras_filtradas:\n",
        "            matriz_palabras_filtradas[i, indice_palabras_filtradas[palabra]] += 1\n",
        "\n",
        "# Crear matriz de frecuencia de términos (TF)\n",
        "matriz_tf = matriz_palabras_filtradas / np.maximum(matriz_palabras_filtradas.sum(axis=1, keepdims=True), 1)\n",
        "\n",
        "# Crear variables dummy para las categorías objetivo\n",
        "vars_dummy_categoria = pd.get_dummies(df_train['categoria'])\n",
        "\n",
        "# Combinar matriz TF con variables dummy\n",
        "df_tf = pd.DataFrame(matriz_tf, columns=palabras_filtradas)\n",
        "df_combinado = pd.concat([vars_dummy_categoria.reset_index(drop=True), df_tf.reset_index(drop=True)], axis=1)\n",
        "\n",
        "# Calcular matriz de correlación\n",
        "matriz_correlacion = df_combinado.corr()\n",
        "correlacion_categoria_termino = matriz_correlacion.loc[vars_dummy_categoria.columns, df_tf.columns]\n",
        "\n",
        "print(\"Matriz de correlación entre categorías y términos:\")\n",
        "print(correlacion_categoria_termino)\n",
        "\n",
        "# Calcular vector de IDF (Frecuencia Inversa de Documentos)\n",
        "num_titulos_con_palabra = np.sum(matriz_palabras_filtradas > 0, axis=0)\n",
        "vector_idf = np.log((len(df_train) + 1) / (num_titulos_con_palabra + 1))\n",
        "\n",
        "# Crear matriz TF-IDF\n",
        "matriz_tf_idf = matriz_tf * vector_idf\n"
      ],
      "metadata": {
        "colab": {
          "base_uri": "https://localhost:8080/"
        },
        "id": "QsDB6LXYj0vM",
        "outputId": "d4d7cd9b-ffcf-420d-d7c1-413c03ecead9"
      },
      "execution_count": 59,
      "outputs": [
        {
          "output_type": "stream",
          "name": "stdout",
          "text": [
            "Matriz de correlación entre categorías y términos:\n",
            "                        sirven   triunfo        si       paz    corona  \\\n",
            "Deportes             -0.019676  0.053992 -0.038106 -0.000761 -0.019676   \n",
            "Educación            -0.014348 -0.023645 -0.027787 -0.023908 -0.014348   \n",
            "Entretenimiento      -0.021993 -0.036245  0.044659  0.024032 -0.021993   \n",
            "Gente y Blogs        -0.009518 -0.015686 -0.018434 -0.015860 -0.009518   \n",
            "Otros                -0.008938 -0.014730 -0.017310 -0.014894 -0.008938   \n",
            "Película y Animación  0.067350  0.021826  0.035404  0.013094  0.067350   \n",
            "\n",
            "                      lapazhabla     mejor     forma   mostrar    pensar  ...  \\\n",
            "Deportes               -0.019676 -0.067425  0.015863 -0.019676 -0.019676  ...   \n",
            "Educación              -0.014348 -0.049166 -0.019696 -0.014348 -0.014348  ...   \n",
            "Entretenimiento        -0.021993 -0.062009 -0.030191 -0.021993 -0.021993  ...   \n",
            "Gente y Blogs          -0.009518  0.132310 -0.013066 -0.009518 -0.009518  ...   \n",
            "Otros                  -0.008938 -0.030628 -0.012270 -0.008938 -0.008938  ...   \n",
            "Película y Animación    0.067350  0.115736  0.048218  0.067350  0.067350  ...   \n",
            "\n",
            "                         comer     sello    magico      puso     opina  \\\n",
            "Deportes             -0.019676 -0.019676 -0.019676 -0.019676 -0.019676   \n",
            "Educación            -0.014348 -0.014348 -0.014348 -0.014348 -0.014348   \n",
            "Entretenimiento       0.056907 -0.021993 -0.021993  0.056907 -0.021993   \n",
            "Gente y Blogs        -0.009518 -0.009518 -0.009518 -0.009518 -0.009518   \n",
            "Otros                -0.008938 -0.008938 -0.008938 -0.008938 -0.008938   \n",
            "Película y Animación -0.018583  0.067350  0.067350 -0.018583  0.067350   \n",
            "\n",
            "                      machismo  cortaron  levantamiento      pesa      2017  \n",
            "Deportes             -0.019676 -0.019676       0.063609  0.063609  0.063609  \n",
            "Educación            -0.014348 -0.014348      -0.014348 -0.014348 -0.014348  \n",
            "Entretenimiento      -0.021993 -0.021993      -0.021993 -0.021993 -0.021993  \n",
            "Gente y Blogs        -0.009518 -0.009518      -0.009518 -0.009518 -0.009518  \n",
            "Otros                -0.008938 -0.008938      -0.008938 -0.008938 -0.008938  \n",
            "Película y Animación  0.067350  0.067350      -0.018583 -0.018583 -0.018583  \n",
            "\n",
            "[6 rows x 1686 columns]\n"
          ]
        }
      ]
    },
    {
      "cell_type": "code",
      "source": [
        "# Preprocesar y aplicar stemming a los títulos de prueba\n",
        "lista_titulos_test = df_test['titulo'].tolist()\n",
        "titulos_test_procesados = [aplicacion_stemming(preprocesar_texto(titulo)) for titulo in lista_titulos_test]\n",
        "\n",
        "# Crear matriz de palabras para los datos de prueba\n",
        "matriz_palabras_test = np.zeros((len(df_test), len(palabras_filtradas)))\n",
        "for i, titulo in enumerate(titulos_test_procesados):\n",
        "    palabras = titulo.split()\n",
        "    for palabra in palabras:\n",
        "        if palabra in indice_palabras_filtradas:\n",
        "            matriz_palabras_test[i, indice_palabras_filtradas[palabra]] += 1\n",
        "\n",
        "# Crear matriz TF para los datos de prueba\n",
        "matriz_tf_test = matriz_palabras_test / np.maximum(matriz_palabras_test.sum(axis=1, keepdims=True), 1)\n",
        "\n",
        "# Crear matriz TF-IDF para los datos de prueba\n",
        "matriz_tf_idf_test = matriz_tf_test * vector_idf\n",
        "\n",
        "# Dividir los datos de entrenamiento en conjuntos de entrenamiento y validación\n",
        "X_train, X_val, y_train, y_val = train_test_split(matriz_tf_idf, df_train['categoria'], test_size=0.2, random_state=42)\n",
        "X_test = matriz_tf_idf_test\n"
      ],
      "metadata": {
        "id": "9t4NX5b4j22B"
      },
      "execution_count": 60,
      "outputs": []
    },
    {
      "cell_type": "code",
      "source": [
        "# Entrenar modelo de regresión logística\n",
        "modelo_regresion_logistica = LogisticRegression()\n",
        "modelo_regresion_logistica.fit(X_train, y_train)\n",
        "\n",
        "# Entrenar modelo de bosque aleatorio\n",
        "modelo_bosque_aleatorio = RandomForestClassifier()\n",
        "modelo_bosque_aleatorio.fit(X_train, y_train)\n",
        "\n",
        "# Tokenizar títulos para la capa de embedding LSTM\n",
        "tokenizador_keras = Tokenizer()\n",
        "tokenizador_keras.fit_on_texts(titulos_procesados)\n",
        "secuencias = tokenizador_keras.texts_to_sequences(titulos_procesados)\n",
        "longitud_max_secuencia = max([len(seq) for seq in secuencias])\n",
        "secuencias_rellenadas = pad_sequences(secuencias, maxlen=longitud_max_secuencia)\n",
        "\n",
        "# Crear y compilar modelo LSTM\n",
        "modelo_lstm = Sequential()\n",
        "modelo_lstm.add(Embedding(len(tokenizador_keras.word_index) + 1, 20, input_length=longitud_max_secuencia))\n",
        "modelo_lstm.add(tf.keras.layers.Bidirectional(tf.keras.layers.LSTM(64, return_sequences=True)))\n",
        "modelo_lstm.add(tf.keras.layers.Bidirectional(tf.keras.layers.LSTM(32, return_sequences=True)))\n",
        "modelo_lstm.add(Dense(32, activation='relu'))\n",
        "modelo_lstm.add(Dense(1, activation='sigmoid'))\n",
        "modelo_lstm.compile(optimizer='rmsprop', loss='binary_crossentropy', metrics=['accuracy'])\n"
      ],
      "metadata": {
        "id": "wwonDVZoj7mn"
      },
      "execution_count": 61,
      "outputs": []
    },
    {
      "cell_type": "code",
      "source": [
        "# Train logistic regression model\n",
        "logistic_model = LogisticRegression()\n",
        "logistic_model.fit(X_train, y_train)\n",
        "\n",
        "# Train random forest model\n",
        "forest_model = RandomForestClassifier()\n",
        "forest_model.fit(X_train, y_train)\n",
        "\n",
        "# Tokenize titles for LSTM embedding layer\n",
        "tokenizer = Tokenizer()\n",
        "tokenizer.fit_on_texts(processed_titles)\n",
        "sequences = tokenizer.texts_to_sequences(processed_titles)\n",
        "max_sequence_length = max([len(seq) for seq in sequences])\n",
        "padded_sequences = pad_sequences(sequences, maxlen=max_sequence_length)\n",
        "\n",
        "# Create and compile LSTM model\n",
        "lstm_model = Sequential()\n",
        "lstm_model.add(Embedding(len(tokenizer.word_index) + 1, 20, input_length=max_sequence_length))\n",
        "lstm_model.add(tf.keras.layers.Bidirectional(tf.keras.layers.LSTM(64,  return_sequences=True)))\n",
        "lstm_model.add(tf.keras.layers.Bidirectional(tf.keras.layers.LSTM(32,  return_sequences=True)))\n",
        "lstm_model.add(Dense(32, activation='relu'))\n",
        "lstm_model.add(Dense(1, activation='sigmoid'))\n",
        "lstm_model.compile(optimizer='rmsprop', loss='binary_crossentropy', metrics=['accuracy'])\n"
      ],
      "metadata": {
        "id": "hj9yPaMSj9NU"
      },
      "execution_count": 68,
      "outputs": []
    },
    {
      "cell_type": "code",
      "source": [
        "# Hacer predicciones con regresión logística\n",
        "predicciones_regresion_logistica = modelo_regresion_logistica.predict(X_test)\n",
        "\n",
        "# Hacer predicciones con bosque aleatorio\n",
        "predicciones_bosque_aleatorio = modelo_bosque_aleatorio.predict(X_test)\n",
        "\n",
        "# Tokenizar y rellenar datos de prueba para LSTM\n",
        "secuencias_test_lstm = tokenizador_keras.texts_to_sequences(lista_titulos_test)\n",
        "secuencias_rellenadas_test_lstm = pad_sequences(secuencias_test_lstm, maxlen=longitud_max_secuencia)\n",
        "predicciones_lstm = modelo_lstm.predict(secuencias_rellenadas_test_lstm)\n",
        "\n",
        "# Convertir predicciones LSTM a etiquetas\n",
        "etiquetas_lstm = np.argmax(predicciones_lstm, axis=1)\n",
        "\n",
        "# Asegurarse de que etiquetas_lstm sea una lista de enteros\n",
        "etiquetas_lstm = etiquetas_lstm.tolist()\n",
        "\n",
        "# Aplanar etiquetas_lstm para manejar listas anidadas\n",
        "etiquetas_lstm_ajustadas = [item for sublist in etiquetas_lstm for item in sublist]\n",
        "\n",
        "# Crear DataFrame de resultados\n",
        "df_resultados = pd.DataFrame(columns=['ID', 'categoria'])\n",
        "df_resultados['ID'] = df_test['index']\n",
        "df_resultados['categoria'] = predicciones_regresion_logistica\n",
        "\n",
        "# Guardar resultados de regresión logística\n",
        "df_resultados.to_csv('LR_results.csv', index=False)\n",
        "\n",
        "# Guardar resultados de bosque aleatorio\n",
        "df_resultados['categoria'] = predicciones_bosque_aleatorio\n",
        "df_resultados.to_csv('RF_results.csv', index=False)\n",
        "\n",
        "# Mapear predicciones de LSTM a etiquetas de categoría\n",
        "mapa_categorias = {0: 'Entretenimiento', 1: 'Deportes', 2: 'Película y Animación', 3: 'Educación', 4: 'Otros'}\n",
        "\n",
        "etiquetas_categoria_lstm = [mapa_categorias.get(etiqueta, 'Otro') for etiqueta in etiquetas_lstm_ajustadas]\n",
        "\n",
        "df_resultados['categoria'] = etiquetas_categoria_lstm\n",
        "\n",
        "# Guardar resultados de LSTM\n",
        "df_resultados.to_csv('lstm_results.csv', index=False)\n",
        "\n",
        "# Evaluar modelos\n",
        "precision_regresion_logistica = precision_score(y_val, predicciones_regresion_logistica, average='weighted')\n",
        "recall_regresion_logistica = recall_score(y_val, predicciones_regresion_logistica, average='weighted')\n",
        "accuracy_regresion_logistica = accuracy_score(y_val, predicciones_regresion_logistica)\n",
        "\n",
        "precision_bosque_aleatorio = precision_score(y_val, predicciones_bosque_aleatorio, average='weighted')\n",
        "recall_bosque_aleatorio = recall_score(y_val, predicciones_bosque_aleatorio, average='weighted')\n",
        "accuracy_bosque_aleatorio = accuracy_score(y_val, predicciones_bosque_aleatorio)\n",
        "\n",
        "precision_lstm = precision_score(y_val, etiquetas_lstm_ajustadas, average='weighted')\n",
        "recall_lstm = recall_score(y_val, etiquetas_lstm_ajustadas, average='weighted')\n",
        "accuracy_lstm = accuracy_score(y_val, etiquetas_lstm_ajustadas)\n",
        "\n",
        "# Matriz de confusión\n",
        "matriz_confusion_regresion_logistica = confusion_matrix(y_val, predicciones_regresion_logistica)\n",
        "matriz_confusion_bosque_aleatorio = confusion_matrix(y_val, predicciones_bosque_aleatorio)\n",
        "matriz_confusion_lstm = confusion_matrix(y_val, etiquetas_lstm_ajustadas)\n",
        "\n",
        "print(\"Regresión logística:\")\n",
        "print(\"Precisión:\", precision_regresion_logistica)\n",
        "print(\"Recall:\", recall_regresion_logistica)\n",
        "print(\"Exactitud:\", accuracy_regresion_logistica)\n",
        "print(\"Matriz de Confusión:\\n\", matriz_confusion_regresion_logistica)\n",
        "\n",
        "print(\"\\nBosque Aleatorio:\")\n",
        "print(\"Precisión:\", precision_bosque_aleatorio)\n",
        "print(\"Recall:\", recall_bosque_aleatorio)\n",
        "print(\"Exactitud:\", accuracy_bosque_aleatorio)\n",
        "print(\"Matriz de Confusión:\\n\", matriz_confusion_bosque_aleatorio)\n",
        "\n",
        "print(\"\\nLSTM:\")\n",
        "print(\"Precisión:\", precision_lstm)\n",
        "print(\"Recall:\", recall_lstm)\n",
        "print(\"Exactitud:\", accuracy_lstm)\n",
        "print(\"Matriz de Confusión:\\n\", matriz_confusion_lstm)\n",
        "\n",
        "# Gráficas adicionales\n",
        "# Graficar matriz de confusión para regresión logística\n",
        "plt.figure(figsize=(10, 7))\n",
        "sns.heatmap(matriz_confusion_regresion_logistica, annot=True, fmt='d', cmap='Blues')\n",
        "plt.title('Matriz de Confusión - Regresión Logística')\n",
        "plt.xlabel('Predicho')\n",
        "plt.ylabel('Actual')\n",
        "plt.show()\n",
        "\n",
        "# Graficar matriz de confusión para bosque aleatorio\n",
        "plt.figure(figsize=(10, 7))\n",
        "sns.heatmap(matriz_confusion_bosque_aleatorio, annot=True, fmt='d', cmap='Greens')\n",
        "plt.title('Matriz de Confusión - Bosque Aleatorio')\n",
        "plt.xlabel('Predicho')\n",
        "plt.ylabel('Actual')\n",
        "plt.show()\n",
        "\n",
        "# Graficar matriz de confusión para LSTM\n",
        "plt.figure(figsize=(10, 7))\n",
        "sns.heatmap(matriz_confusion_lstm, annot=True, fmt='d', cmap='Reds')\n",
        "plt.title('Matriz de Confusión - LSTM')\n",
        "plt.xlabel('Predicho')\n",
        "plt.ylabel('Actual')\n",
        "plt.show()\n",
        "\n",
        "# Graficar precisión de modelos\n",
        "puntajes_exactitud = [accuracy_regresion_logistica, accuracy_bosque_aleatorio, accuracy_lstm]\n",
        "nombres_modelos = ['Regresión Logística', 'Bosque Aleatorio', 'LSTM']\n",
        "plt.figure(figsize=(8, 6))\n",
        "sns.barplot(x=nombres_modelos, y=puntajes_exactitud)\n",
        "plt.title('Comparación de Exactitud de Modelos')\n",
        "plt.xlabel('Modelo')\n",
        "plt.ylabel('Exactitud')\n",
        "plt.ylim(0, 1)\n",
        "plt.show()\n"
      ],
      "metadata": {
        "colab": {
          "base_uri": "https://localhost:8080/",
          "height": 373
        },
        "id": "KEkTpvNSkEtc",
        "outputId": "f14e3ac4-4fd6-4916-aece-bcab853e7809"
      },
      "execution_count": 69,
      "outputs": [
        {
          "output_type": "stream",
          "name": "stdout",
          "text": [
            "7/7 [==============================] - 0s 20ms/step\n"
          ]
        },
        {
          "output_type": "error",
          "ename": "ValueError",
          "evalue": "Found input variables with inconsistent numbers of samples: [160, 200]",
          "traceback": [
            "\u001b[0;31m---------------------------------------------------------------------------\u001b[0m",
            "\u001b[0;31mValueError\u001b[0m                                Traceback (most recent call last)",
            "\u001b[0;32m<ipython-input-69-a05c83e53d5a>\u001b[0m in \u001b[0;36m<cell line: 44>\u001b[0;34m()\u001b[0m\n\u001b[1;32m     42\u001b[0m \u001b[0;34m\u001b[0m\u001b[0m\n\u001b[1;32m     43\u001b[0m \u001b[0;31m# Evaluar modelos\u001b[0m\u001b[0;34m\u001b[0m\u001b[0;34m\u001b[0m\u001b[0m\n\u001b[0;32m---> 44\u001b[0;31m \u001b[0mprecision_regresion_logistica\u001b[0m \u001b[0;34m=\u001b[0m \u001b[0mprecision_score\u001b[0m\u001b[0;34m(\u001b[0m\u001b[0my_val\u001b[0m\u001b[0;34m,\u001b[0m \u001b[0mpredicciones_regresion_logistica\u001b[0m\u001b[0;34m,\u001b[0m \u001b[0maverage\u001b[0m\u001b[0;34m=\u001b[0m\u001b[0;34m'weighted'\u001b[0m\u001b[0;34m)\u001b[0m\u001b[0;34m\u001b[0m\u001b[0;34m\u001b[0m\u001b[0m\n\u001b[0m\u001b[1;32m     45\u001b[0m \u001b[0mrecall_regresion_logistica\u001b[0m \u001b[0;34m=\u001b[0m \u001b[0mrecall_score\u001b[0m\u001b[0;34m(\u001b[0m\u001b[0my_val\u001b[0m\u001b[0;34m,\u001b[0m \u001b[0mpredicciones_regresion_logistica\u001b[0m\u001b[0;34m,\u001b[0m \u001b[0maverage\u001b[0m\u001b[0;34m=\u001b[0m\u001b[0;34m'weighted'\u001b[0m\u001b[0;34m)\u001b[0m\u001b[0;34m\u001b[0m\u001b[0;34m\u001b[0m\u001b[0m\n\u001b[1;32m     46\u001b[0m \u001b[0maccuracy_regresion_logistica\u001b[0m \u001b[0;34m=\u001b[0m \u001b[0maccuracy_score\u001b[0m\u001b[0;34m(\u001b[0m\u001b[0my_val\u001b[0m\u001b[0;34m,\u001b[0m \u001b[0mpredicciones_regresion_logistica\u001b[0m\u001b[0;34m)\u001b[0m\u001b[0;34m\u001b[0m\u001b[0;34m\u001b[0m\u001b[0m\n",
            "\u001b[0;32m/usr/local/lib/python3.10/dist-packages/sklearn/metrics/_classification.py\u001b[0m in \u001b[0;36mprecision_score\u001b[0;34m(y_true, y_pred, labels, pos_label, average, sample_weight, zero_division)\u001b[0m\n\u001b[1;32m   1952\u001b[0m     \u001b[0marray\u001b[0m\u001b[0;34m(\u001b[0m\u001b[0;34m[\u001b[0m\u001b[0;36m0.5\u001b[0m\u001b[0;34m,\u001b[0m \u001b[0;36m1.\u001b[0m \u001b[0;34m,\u001b[0m \u001b[0;36m1.\u001b[0m \u001b[0;34m]\u001b[0m\u001b[0;34m)\u001b[0m\u001b[0;34m\u001b[0m\u001b[0;34m\u001b[0m\u001b[0m\n\u001b[1;32m   1953\u001b[0m     \"\"\"\n\u001b[0;32m-> 1954\u001b[0;31m     p, _, _, _ = precision_recall_fscore_support(\n\u001b[0m\u001b[1;32m   1955\u001b[0m         \u001b[0my_true\u001b[0m\u001b[0;34m,\u001b[0m\u001b[0;34m\u001b[0m\u001b[0;34m\u001b[0m\u001b[0m\n\u001b[1;32m   1956\u001b[0m         \u001b[0my_pred\u001b[0m\u001b[0;34m,\u001b[0m\u001b[0;34m\u001b[0m\u001b[0;34m\u001b[0m\u001b[0m\n",
            "\u001b[0;32m/usr/local/lib/python3.10/dist-packages/sklearn/metrics/_classification.py\u001b[0m in \u001b[0;36mprecision_recall_fscore_support\u001b[0;34m(y_true, y_pred, beta, labels, pos_label, average, warn_for, sample_weight, zero_division)\u001b[0m\n\u001b[1;32m   1571\u001b[0m     \u001b[0;32mif\u001b[0m \u001b[0mbeta\u001b[0m \u001b[0;34m<\u001b[0m \u001b[0;36m0\u001b[0m\u001b[0;34m:\u001b[0m\u001b[0;34m\u001b[0m\u001b[0;34m\u001b[0m\u001b[0m\n\u001b[1;32m   1572\u001b[0m         \u001b[0;32mraise\u001b[0m \u001b[0mValueError\u001b[0m\u001b[0;34m(\u001b[0m\u001b[0;34m\"beta should be >=0 in the F-beta score\"\u001b[0m\u001b[0;34m)\u001b[0m\u001b[0;34m\u001b[0m\u001b[0;34m\u001b[0m\u001b[0m\n\u001b[0;32m-> 1573\u001b[0;31m     \u001b[0mlabels\u001b[0m \u001b[0;34m=\u001b[0m \u001b[0m_check_set_wise_labels\u001b[0m\u001b[0;34m(\u001b[0m\u001b[0my_true\u001b[0m\u001b[0;34m,\u001b[0m \u001b[0my_pred\u001b[0m\u001b[0;34m,\u001b[0m \u001b[0maverage\u001b[0m\u001b[0;34m,\u001b[0m \u001b[0mlabels\u001b[0m\u001b[0;34m,\u001b[0m \u001b[0mpos_label\u001b[0m\u001b[0;34m)\u001b[0m\u001b[0;34m\u001b[0m\u001b[0;34m\u001b[0m\u001b[0m\n\u001b[0m\u001b[1;32m   1574\u001b[0m \u001b[0;34m\u001b[0m\u001b[0m\n\u001b[1;32m   1575\u001b[0m     \u001b[0;31m# Calculate tp_sum, pred_sum, true_sum ###\u001b[0m\u001b[0;34m\u001b[0m\u001b[0;34m\u001b[0m\u001b[0m\n",
            "\u001b[0;32m/usr/local/lib/python3.10/dist-packages/sklearn/metrics/_classification.py\u001b[0m in \u001b[0;36m_check_set_wise_labels\u001b[0;34m(y_true, y_pred, average, labels, pos_label)\u001b[0m\n\u001b[1;32m   1372\u001b[0m         \u001b[0;32mraise\u001b[0m \u001b[0mValueError\u001b[0m\u001b[0;34m(\u001b[0m\u001b[0;34m\"average has to be one of \"\u001b[0m \u001b[0;34m+\u001b[0m \u001b[0mstr\u001b[0m\u001b[0;34m(\u001b[0m\u001b[0maverage_options\u001b[0m\u001b[0;34m)\u001b[0m\u001b[0;34m)\u001b[0m\u001b[0;34m\u001b[0m\u001b[0;34m\u001b[0m\u001b[0m\n\u001b[1;32m   1373\u001b[0m \u001b[0;34m\u001b[0m\u001b[0m\n\u001b[0;32m-> 1374\u001b[0;31m     \u001b[0my_type\u001b[0m\u001b[0;34m,\u001b[0m \u001b[0my_true\u001b[0m\u001b[0;34m,\u001b[0m \u001b[0my_pred\u001b[0m \u001b[0;34m=\u001b[0m \u001b[0m_check_targets\u001b[0m\u001b[0;34m(\u001b[0m\u001b[0my_true\u001b[0m\u001b[0;34m,\u001b[0m \u001b[0my_pred\u001b[0m\u001b[0;34m)\u001b[0m\u001b[0;34m\u001b[0m\u001b[0;34m\u001b[0m\u001b[0m\n\u001b[0m\u001b[1;32m   1375\u001b[0m     \u001b[0;31m# Convert to Python primitive type to avoid NumPy type / Python str\u001b[0m\u001b[0;34m\u001b[0m\u001b[0;34m\u001b[0m\u001b[0m\n\u001b[1;32m   1376\u001b[0m     \u001b[0;31m# comparison. See https://github.com/numpy/numpy/issues/6784\u001b[0m\u001b[0;34m\u001b[0m\u001b[0;34m\u001b[0m\u001b[0m\n",
            "\u001b[0;32m/usr/local/lib/python3.10/dist-packages/sklearn/metrics/_classification.py\u001b[0m in \u001b[0;36m_check_targets\u001b[0;34m(y_true, y_pred)\u001b[0m\n\u001b[1;32m     84\u001b[0m     \u001b[0my_pred\u001b[0m \u001b[0;34m:\u001b[0m \u001b[0marray\u001b[0m \u001b[0;32mor\u001b[0m \u001b[0mindicator\u001b[0m \u001b[0mmatrix\u001b[0m\u001b[0;34m\u001b[0m\u001b[0;34m\u001b[0m\u001b[0m\n\u001b[1;32m     85\u001b[0m     \"\"\"\n\u001b[0;32m---> 86\u001b[0;31m     \u001b[0mcheck_consistent_length\u001b[0m\u001b[0;34m(\u001b[0m\u001b[0my_true\u001b[0m\u001b[0;34m,\u001b[0m \u001b[0my_pred\u001b[0m\u001b[0;34m)\u001b[0m\u001b[0;34m\u001b[0m\u001b[0;34m\u001b[0m\u001b[0m\n\u001b[0m\u001b[1;32m     87\u001b[0m     \u001b[0mtype_true\u001b[0m \u001b[0;34m=\u001b[0m \u001b[0mtype_of_target\u001b[0m\u001b[0;34m(\u001b[0m\u001b[0my_true\u001b[0m\u001b[0;34m,\u001b[0m \u001b[0minput_name\u001b[0m\u001b[0;34m=\u001b[0m\u001b[0;34m\"y_true\"\u001b[0m\u001b[0;34m)\u001b[0m\u001b[0;34m\u001b[0m\u001b[0;34m\u001b[0m\u001b[0m\n\u001b[1;32m     88\u001b[0m     \u001b[0mtype_pred\u001b[0m \u001b[0;34m=\u001b[0m \u001b[0mtype_of_target\u001b[0m\u001b[0;34m(\u001b[0m\u001b[0my_pred\u001b[0m\u001b[0;34m,\u001b[0m \u001b[0minput_name\u001b[0m\u001b[0;34m=\u001b[0m\u001b[0;34m\"y_pred\"\u001b[0m\u001b[0;34m)\u001b[0m\u001b[0;34m\u001b[0m\u001b[0;34m\u001b[0m\u001b[0m\n",
            "\u001b[0;32m/usr/local/lib/python3.10/dist-packages/sklearn/utils/validation.py\u001b[0m in \u001b[0;36mcheck_consistent_length\u001b[0;34m(*arrays)\u001b[0m\n\u001b[1;32m    395\u001b[0m     \u001b[0muniques\u001b[0m \u001b[0;34m=\u001b[0m \u001b[0mnp\u001b[0m\u001b[0;34m.\u001b[0m\u001b[0munique\u001b[0m\u001b[0;34m(\u001b[0m\u001b[0mlengths\u001b[0m\u001b[0;34m)\u001b[0m\u001b[0;34m\u001b[0m\u001b[0;34m\u001b[0m\u001b[0m\n\u001b[1;32m    396\u001b[0m     \u001b[0;32mif\u001b[0m \u001b[0mlen\u001b[0m\u001b[0;34m(\u001b[0m\u001b[0muniques\u001b[0m\u001b[0;34m)\u001b[0m \u001b[0;34m>\u001b[0m \u001b[0;36m1\u001b[0m\u001b[0;34m:\u001b[0m\u001b[0;34m\u001b[0m\u001b[0;34m\u001b[0m\u001b[0m\n\u001b[0;32m--> 397\u001b[0;31m         raise ValueError(\n\u001b[0m\u001b[1;32m    398\u001b[0m             \u001b[0;34m\"Found input variables with inconsistent numbers of samples: %r\"\u001b[0m\u001b[0;34m\u001b[0m\u001b[0;34m\u001b[0m\u001b[0m\n\u001b[1;32m    399\u001b[0m             \u001b[0;34m%\u001b[0m \u001b[0;34m[\u001b[0m\u001b[0mint\u001b[0m\u001b[0;34m(\u001b[0m\u001b[0ml\u001b[0m\u001b[0;34m)\u001b[0m \u001b[0;32mfor\u001b[0m \u001b[0ml\u001b[0m \u001b[0;32min\u001b[0m \u001b[0mlengths\u001b[0m\u001b[0;34m]\u001b[0m\u001b[0;34m\u001b[0m\u001b[0;34m\u001b[0m\u001b[0m\n",
            "\u001b[0;31mValueError\u001b[0m: Found input variables with inconsistent numbers of samples: [160, 200]"
          ]
        }
      ]
    },
    {
      "cell_type": "code",
      "source": [],
      "metadata": {
        "id": "I8Ikwp4C5kOy"
      },
      "execution_count": null,
      "outputs": []
    }
  ]
}