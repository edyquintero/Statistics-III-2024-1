{
  "nbformat": 4,
  "nbformat_minor": 0,
  "metadata": {
    "colab": {
      "provenance": []
    },
    "kernelspec": {
      "name": "python3",
      "display_name": "Python 3"
    },
    "language_info": {
      "name": "python"
    }
  },
  "cells": [
    {
      "cell_type": "markdown",
      "source": [
        "# Librerias necesarias y dataFrame"
      ],
      "metadata": {
        "id": "AT_NzI1wZccY"
      }
    },
    {
      "cell_type": "code",
      "source": [
        "import pandas as pd\n",
        "import numpy as np\n",
        "import re\n",
        "import unicodedata\n",
        "from collections import defaultdict\n",
        "from nltk.corpus import stopwords\n",
        "from nltk.tokenize.toktok import ToktokTokenizer\n",
        "from sklearn.feature_extraction.text import TfidfVectorizer\n",
        "import matplotlib.pyplot as plt\n",
        "import seaborn as sns\n",
        "import nltk\n",
        "\n",
        "# Datos\n",
        "data = {\n",
        "    'Texto': [\n",
        "        \"Aprendi regresiones\", \"El profe no da mas tiempo en las tareas\",\n",
        "        \"Las office hours son en un horario muy maluco y no el profe no contesta los correos\",\n",
        "        \"Tareas muy largas y toca dedicar mucho tiempo\", \"Aprendi a utilizar imágenes\",\n",
        "        \"El profe se demora en entregar las notas\", \"La tarea de clasificar las plantas me gusto\",\n",
        "        \"Los examenes son dificiles y largos\", \"Me gusta cuando el profe resuelve los problemas en excel\",\n",
        "        \"Utilizar texto es util y aprender NLP\", \"Las redes neuronales me parecen poderosas y me gusto la parte practica\",\n",
        "        \"Falto aprender mas spark\", \"Las office hours son los sabados y no me gusta madrugar\",\n",
        "        \"Aprendi python y pandas\", \"Me gusto trabajar con datos reales\", \"Aprendi que es un cluster\",\n",
        "        \"Las tareas son practicas con datos reales\", \"las derivadas son muy utiles y me gusto la matematica\",\n",
        "        \"Pandas es com un excel y me gusto\", \"es aburrido el tema y me distraigo en la parte teorica\",\n",
        "        \"Es dificl y me toco cancelar la materia\"\n",
        "    ],\n",
        "    'Sentimiento': [\n",
        "        'Positivo', 'Negativo', 'Negativo', 'Negativo', 'Positivo', 'Negativo', 'Positivo', 'Negativo',\n",
        "        'Positivo', 'Positivo', 'Positivo', 'Negativo', 'Negativo', 'Positivo', 'Positivo', 'Positivo',\n",
        "        'Positivo', 'Positivo', 'Positivo', 'Negativo', 'Negativo'\n",
        "    ]\n",
        "}\n",
        "\n",
        "# Crear DataFrame\n",
        "df = pd.DataFrame(data)"
      ],
      "metadata": {
        "id": "-vnwnc2DZcOZ"
      },
      "execution_count": 55,
      "outputs": []
    },
    {
      "cell_type": "markdown",
      "source": [
        "# Procesar el texto antes de usarlo"
      ],
      "metadata": {
        "id": "R2nwFt6bZj5x"
      }
    },
    {
      "cell_type": "code",
      "source": [
        "nltk.download('stopwords')\n",
        "tokenizer = ToktokTokenizer()\n",
        "stopwords_spanish = set(stopwords.words('spanish'))\n",
        "\n",
        "def eliminar_acentos(texto):\n",
        "    return ''.join(c for c in unicodedata.normalize('NFKD', texto) if not unicodedata.combining(c))\n",
        "\n",
        "def preprocesar_texto(texto):\n",
        "    texto = eliminar_acentos(texto)\n",
        "    texto = texto.lower()\n",
        "    texto = re.sub(r'\\W+', ' ', texto)\n",
        "    return texto\n",
        "\n",
        "df['Texto'] = df['Texto'].apply(preprocesar_texto)"
      ],
      "metadata": {
        "colab": {
          "base_uri": "https://localhost:8080/"
        },
        "id": "FWAiONo_Zpux",
        "outputId": "5f9e6312-c635-4d0a-ff9a-0f5ed5404a96"
      },
      "execution_count": 56,
      "outputs": [
        {
          "output_type": "stream",
          "name": "stderr",
          "text": [
            "[nltk_data] Downloading package stopwords to /root/nltk_data...\n",
            "[nltk_data]   Package stopwords is already up-to-date!\n"
          ]
        }
      ]
    },
    {
      "cell_type": "markdown",
      "source": [
        "# Funciones para frecuencia de palabras"
      ],
      "metadata": {
        "id": "V7qRbl7AZwu-"
      }
    },
    {
      "cell_type": "code",
      "source": [
        "def contar_palabras(textos):\n",
        "    diccionario_palabras = defaultdict(int)\n",
        "    for texto in textos:\n",
        "        palabras = tokenizer.tokenize(texto)\n",
        "        palabras = [palabra.strip() for palabra in palabras if palabra not in stopwords_spanish]\n",
        "        for palabra in palabras:\n",
        "            diccionario_palabras[palabra] += 1\n",
        "    return diccionario_palabras\n",
        "\n",
        "frecuencia_palabras = contar_palabras(df['Texto'])\n",
        "palabras_ordenadas = sorted(frecuencia_palabras.items(), key=lambda x: x[1], reverse=True)\n"
      ],
      "metadata": {
        "id": "9VJ1roNUZ50-"
      },
      "execution_count": 57,
      "outputs": []
    },
    {
      "cell_type": "markdown",
      "source": [
        "# Gráfico de las palabras más usadas"
      ],
      "metadata": {
        "id": "jEoXECiyaArH"
      }
    },
    {
      "cell_type": "code",
      "source": [
        "top_10_palabras = palabras_ordenadas[:10]\n",
        "palabras, frecuencias = zip(*top_10_palabras)\n",
        "\n",
        "# Graficar\n",
        "plt.figure(figsize=(10, 6))\n",
        "sns.barplot(x=list(palabras), y=list(frecuencias))\n",
        "plt.title('Top 10 Palabras Más Frecuentes')\n",
        "plt.xlabel('Palabras')\n",
        "plt.ylabel('Frecuencia')\n",
        "plt.show()"
      ],
      "metadata": {
        "colab": {
          "base_uri": "https://localhost:8080/",
          "height": 565
        },
        "id": "4UXV3e64aFDp",
        "outputId": "846edf10-c89d-440a-dcad-fbde72774bce"
      },
      "execution_count": 58,
      "outputs": [
        {
          "output_type": "display_data",
          "data": {
            "text/plain": [
              "<Figure size 1000x600 with 1 Axes>"
            ],
            "image/png": "[encoded data removed]"
          },
          "metadata": {}
        }
      ]
    },
    {
      "cell_type": "markdown",
      "source": [
        "# Correlación con el Sentimiento, matriz TF-IDF\n"
      ],
      "metadata": {
        "id": "VEzPF9eiaNcy"
      }
    },
    {
      "cell_type": "code",
      "source": [
        "vectorizer = TfidfVectorizer(stop_words=list(stopwords_spanish))\n",
        "tfidf_matrix = vectorizer.fit_transform(df['Texto'])\n",
        "tfidf_df = pd.DataFrame(tfidf_matrix.toarray(), columns=vectorizer.get_feature_names_out())"
      ],
      "metadata": {
        "id": "g-bU8MIPabso"
      },
      "execution_count": 59,
      "outputs": []
    },
    {
      "cell_type": "markdown",
      "source": [
        "# Sentimiento en el df y correlación"
      ],
      "metadata": {
        "id": "cAJBYmLPaikU"
      }
    },
    {
      "cell_type": "code",
      "source": [
        "# Mapeo del sentimiento\n",
        "df['Sentimiento'] = df['Sentimiento'].map({'Positivo': 1, 'Negativo': 0})\n",
        "\n",
        "correlacion = tfidf_df.corrwith(df['Sentimiento'])\n",
        "correlacion_ordenada = correlacion.sort_values(ascending=False)\n",
        "print(\"Correlación con el Sentimiento:\")\n",
        "print(correlacion_ordenada.head(10))"
      ],
      "metadata": {
        "colab": {
          "base_uri": "https://localhost:8080/"
        },
        "id": "5txoX0j0aodq",
        "outputId": "76b4020e-6dc1-4cef-e298-f20b1eb682b6"
      },
      "execution_count": 60,
      "outputs": [
        {
          "output_type": "stream",
          "name": "stdout",
          "text": [
            "Correlación con el Sentimiento:\n",
            "gusto          0.479342\n",
            "aprendi        0.417412\n",
            "reales         0.280944\n",
            "datos          0.280944\n",
            "pandas         0.280300\n",
            "excel          0.280077\n",
            "utilizar       0.276691\n",
            "regresiones    0.193649\n",
            "nlp            0.193649\n",
            "util           0.193649\n",
            "dtype: float64\n"
          ]
        }
      ]
    },
    {
      "cell_type": "markdown",
      "source": [
        "# Ordenar la Matriz TF-IDF por el numero de uso de las palabras"
      ],
      "metadata": {
        "id": "ov8xaZjVauHN"
      }
    },
    {
      "cell_type": "code",
      "execution_count": 43,
      "metadata": {
        "colab": {
          "base_uri": "https://localhost:8080/"
        },
        "id": "8gBQsptPYvxd",
        "outputId": "8027411e-5a01-4345-c8aa-c300b0ca0be7"
      },
      "outputs": [
        {
          "output_type": "stream",
          "name": "stdout",
          "text": [
            "Matriz TF-IDF Ordenada:\n",
            "   gusto   aprendi     profe    tareas       mas    tiempo    office  \\\n",
            "0    0.0  0.589788  0.000000  0.000000  0.000000  0.000000  0.000000   \n",
            "1    0.0  0.000000  0.378754  0.412811  0.456719  0.456719  0.000000   \n",
            "2    0.0  0.000000  0.296079  0.000000  0.000000  0.000000  0.357026   \n",
            "3    0.0  0.000000  0.000000  0.379085  0.000000  0.419405  0.000000   \n",
            "4    0.0  0.480633  0.000000  0.000000  0.000000  0.000000  0.000000   \n",
            "\n",
            "      hours  utilizar  gusta  ...  matematica  com  aburrido  tema  distraigo  \\\n",
            "0  0.000000  0.000000    0.0  ...         0.0  0.0       0.0   0.0        0.0   \n",
            "1  0.000000  0.000000    0.0  ...         0.0  0.0       0.0   0.0        0.0   \n",
            "2  0.357026  0.000000    0.0  ...         0.0  0.0       0.0   0.0        0.0   \n",
            "3  0.000000  0.000000    0.0  ...         0.0  0.0       0.0   0.0        0.0   \n",
            "4  0.000000  0.579568    0.0  ...         0.0  0.0       0.0   0.0        0.0   \n",
            "\n",
            "   teorica  dificl  toco  cancelar  materia  \n",
            "0      0.0     0.0   0.0       0.0      0.0  \n",
            "1      0.0     0.0   0.0       0.0      0.0  \n",
            "2      0.0     0.0   0.0       0.0      0.0  \n",
            "3      0.0     0.0   0.0       0.0      0.0  \n",
            "4      0.0     0.0   0.0       0.0      0.0  \n",
            "\n",
            "[5 rows x 65 columns]\n"
          ]
        }
      ],
      "source": [
        "palabras_ordenadas_por_frecuencia = [palabra for palabra, frecuencia in palabras_ordenadas]\n",
        "tfidf_df_ordenada = tfidf_df[palabras_ordenadas_por_frecuencia]\n",
        "\n",
        "print(\"Matriz TF-IDF Ordenada:\")\n",
        "print(tfidf_df_ordenada.head())"
      ]
    },
    {
      "cell_type": "markdown",
      "source": [
        "# Inicializar los parámetros y funciones necesarias\n",
        ""
      ],
      "metadata": {
        "id": "rW6M71A8cBPW"
      }
    },
    {
      "cell_type": "code",
      "source": [
        "# Inicialización de parámetros\n",
        "m, n = tfidf_df.shape\n",
        "W = np.zeros(n)\n",
        "b = 0\n",
        "learning_rate = 0.5\n",
        "epochs = 1000\n",
        "batch_size = 3\n",
        "\n",
        "# Función sigmoide\n",
        "def sigmoid(z):\n",
        "    return 1 / (1 + np.exp(-z))\n",
        "\n",
        "# Función de pérdida (log-loss)\n",
        "def log_loss(y_true, y_pred):\n",
        "    return - np.mean(y_true * np.log(y_pred) + (1 - y_true) * np.log(1 - y_pred))"
      ],
      "metadata": {
        "id": "uHO2_mCQZYhn"
      },
      "execution_count": 19,
      "outputs": []
    },
    {
      "cell_type": "markdown",
      "source": [
        "# Implementar el gradiente descendiente"
      ],
      "metadata": {
        "id": "INQCR8OacYKC"
      }
    },
    {
      "cell_type": "code",
      "source": [
        "# Descenso de gradiente por lotes\n",
        "for epoch in range(epochs):\n",
        "    for i in range(0, m, batch_size):\n",
        "        X_batch = tfidf_df.iloc[i:i+batch_size]\n",
        "        y_batch = df['Sentimiento'].iloc[i:i+batch_size]\n",
        "\n",
        "        # Cálculo de la hipótesis\n",
        "        z = np.dot(X_batch, W) + b\n",
        "        y_pred = sigmoid(z)\n",
        "\n",
        "        # Cálculo de la pérdida\n",
        "        loss = log_loss(y_batch, y_pred)\n",
        "\n",
        "        # Cálculo de los gradientes\n",
        "        dw = (1 / batch_size) * np.dot(X_batch.T, (y_pred - y_batch))\n",
        "        db = (1 / batch_size) * np.sum(y_pred - y_batch)\n",
        "\n",
        "        # Actualización de los parámetros\n",
        "        W -= learning_rate * dw\n",
        "        b -= learning_rate * db\n",
        "\n",
        "    if epoch % 100 == 0:\n",
        "        print(f\"Epoch {epoch}, Loss: {loss}\")\n"
      ],
      "metadata": {
        "colab": {
          "base_uri": "https://localhost:8080/"
        },
        "id": "1lHdTY_KcVoQ",
        "outputId": "9e63feb7-07ac-427e-81da-e5639511436e"
      },
      "execution_count": 20,
      "outputs": [
        {
          "output_type": "stream",
          "name": "stdout",
          "text": [
            "Epoch 0, Loss: 0.7558992724868075\n",
            "Epoch 100, Loss: 0.052129745129435544\n",
            "Epoch 200, Loss: 0.02546725739971706\n",
            "Epoch 300, Loss: 0.016759377916898275\n",
            "Epoch 400, Loss: 0.012466547694606122\n",
            "Epoch 500, Loss: 0.009915927895840317\n",
            "Epoch 600, Loss: 0.008227722247250708\n",
            "Epoch 700, Loss: 0.007028555660605886\n",
            "Epoch 800, Loss: 0.006133182174002785\n",
            "Epoch 900, Loss: 0.005439332429266564\n"
          ]
        }
      ]
    },
    {
      "cell_type": "markdown",
      "source": [
        "# Predicción y evaluación del modeli"
      ],
      "metadata": {
        "id": "Xkd_loBCcdeA"
      }
    },
    {
      "cell_type": "code",
      "source": [
        "# Predicción\n",
        "z_test = np.dot(tfidf_df, W) + b\n",
        "y_pred_test = sigmoid(z_test)\n",
        "predicciones = [1 if i > 0.5 else 0 for i in y_pred_test]\n",
        "\n",
        "# Evaluación\n",
        "from sklearn.metrics import accuracy_score\n",
        "\n",
        "accuracy = accuracy_score(df['Sentimiento'], predicciones)\n",
        "print(f\"Accuracy: {accuracy}\")\n",
        "\n",
        "# Usar el modelo para clasificar los textos y mostrar las clasificaciones\n",
        "df['Predicción'] = predicciones\n",
        "\n",
        "# Imprimir los textos junto con su sentimiento real y la predicción del modelo\n",
        "resultado = df[['Texto', 'Sentimiento', 'Predicción']]\n",
        "print(\"Resultados de la clasificación:\")\n",
        "print(resultado)\n",
        "\n",
        "# Mostrar si las predicciones fueron correctas\n",
        "df['Correcto'] = df['Sentimiento'] == df['Predicción']\n",
        "print(\"\\nPredicciones correctas:\")\n",
        "print(df['Correcto'].value_counts())"
      ],
      "metadata": {
        "colab": {
          "base_uri": "https://localhost:8080/"
        },
        "id": "Gnml1bjmcazx",
        "outputId": "da7c559b-bba8-4d87-c66b-23cef8467b90"
      },
      "execution_count": 21,
      "outputs": [
        {
          "output_type": "stream",
          "name": "stdout",
          "text": [
            "Accuracy: 1.0\n",
            "Resultados de la clasificación:\n",
            "                                                Texto  Sentimiento  Predicción\n",
            "0                                 aprendi regresiones            1           1\n",
            "1             el profe no da mas tiempo en las tareas            0           0\n",
            "2   las office hours son en un horario muy maluco ...            0           0\n",
            "3       tareas muy largas y toca dedicar mucho tiempo            0           0\n",
            "4                         aprendi a utilizar imagenes            1           1\n",
            "5            el profe se demora en entregar las notas            0           0\n",
            "6         la tarea de clasificar las plantas me gusto            1           1\n",
            "7                 los examenes son dificiles y largos            0           0\n",
            "8   me gusta cuando el profe resuelve los problema...            1           1\n",
            "9               utilizar texto es util y aprender nlp            1           1\n",
            "10  las redes neuronales me parecen poderosas y me...            1           1\n",
            "11                           falto aprender mas spark            0           0\n",
            "12  las office hours son los sabados y no me gusta...            0           0\n",
            "13                            aprendi python y pandas            1           1\n",
            "14                 me gusto trabajar con datos reales            1           1\n",
            "15                          aprendi que es un cluster            1           1\n",
            "16          las tareas son practicas con datos reales            1           1\n",
            "17  las derivadas son muy utiles y me gusto la mat...            1           1\n",
            "18                  pandas es com un excel y me gusto            1           1\n",
            "19  es aburrido el tema y me distraigo en la parte...            0           0\n",
            "20            es dificl y me toco cancelar la materia            0           0\n",
            "\n",
            "Predicciones correctas:\n",
            "Correcto\n",
            "True    21\n",
            "Name: count, dtype: int64\n"
          ]
        }
      ]
    },
    {
      "cell_type": "code",
      "source": [
        "# Inicialización de parámetros\n",
        "m, n = tfidf_df.shape\n",
        "W = np.zeros(n)\n",
        "b = 0\n",
        "learning_rate = 0.5\n",
        "epochs = 6\n",
        "batch_size = 3\n",
        "\n",
        "# Función sigmoide\n",
        "def sigmoid(z):\n",
        "    return 1 / (1 + np.exp(-z))\n",
        "\n",
        "# Función de pérdida (log-loss)\n",
        "def log_loss(y_true, y_pred):\n",
        "    return - np.mean(y_true * np.log(y_pred) + (1 - y_true) * np.log(1 - y_pred))\n",
        "\n",
        "# Inicialización de la lista para registrar los coeficientes\n",
        "coeficientes = []\n",
        "\n",
        "# Descenso de gradiente por lotes\n",
        "for epoch in range(epochs):\n",
        "    for i in range(0, m, batch_size):\n",
        "        X_batch = tfidf_df.iloc[i:i+batch_size]\n",
        "        y_batch = df['Sentimiento'].iloc[i:i+batch_size]\n",
        "\n",
        "        # Cálculo de la hipótesis\n",
        "        z = np.dot(X_batch, W) + b\n",
        "        y_pred = sigmoid(z)\n",
        "\n",
        "        # Cálculo de la pérdida\n",
        "        loss = log_loss(y_batch, y_pred)\n",
        "\n",
        "        # Cálculo de los gradientes\n",
        "        dw = (1 / batch_size) * np.dot(X_batch.T, (y_pred - y_batch))\n",
        "        db = (1 / batch_size) * np.sum(y_pred - y_batch)\n",
        "\n",
        "        # Actualización de los parámetros\n",
        "        W -= learning_rate * dw\n",
        "        b -= learning_rate * db\n",
        "\n",
        "        # Registro de los coeficientes después de cada actualización\n",
        "        coeficientes.append((epoch + 1, W[0], W[1], W[2], W[3]))\n",
        "\n",
        "        # Solo necesitamos los coeficientes de las primeras 4 características\n",
        "        if len(coeficientes) >= 6:\n",
        "            break\n",
        "    if len(coeficientes) >= 6:\n",
        "        break\n",
        "\n",
        "# Crear DataFrame para la tabla de coeficientes\n",
        "columnas = ['Iteracion', 'b1', 'b2', 'b3', 'b4']\n",
        "tabla_coeficientes = pd.DataFrame(coeficientes[:6], columns=columnas)\n",
        "\n",
        "# Mostrar la tabla\n",
        "print(\"Tabla de coeficientes:\")\n",
        "print(tabla_coeficientes)\n"
      ],
      "metadata": {
        "colab": {
          "base_uri": "https://localhost:8080/"
        },
        "id": "pBL8KTXqdJyr",
        "outputId": "ef7a03a1-b1d3-45e5-ad35-09322a2db0f4"
      },
      "execution_count": 22,
      "outputs": [
        {
          "output_type": "stream",
          "name": "stdout",
          "text": [
            "Tabla de coeficientes:\n",
            "   Iteracion   b1        b2        b3   b4\n",
            "0          1  0.0  0.000000  0.049149  0.0\n",
            "1          1  0.0  0.000000  0.090397  0.0\n",
            "2          1  0.0  0.000000  0.090397  0.0\n",
            "3          1  0.0 -0.002675  0.090397  0.0\n",
            "4          1  0.0 -0.002675  0.128818  0.0\n",
            "5          1  0.0 -0.002675  0.173305  0.0\n"
          ]
        }
      ]
    },
    {
      "cell_type": "code",
      "source": [],
      "metadata": {
        "id": "xWyZWhBOfkfx"
      },
      "execution_count": null,
      "outputs": []
    }
  ]
}