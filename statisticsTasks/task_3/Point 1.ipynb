{
 "cells": [
  {
   "cell_type": "markdown",
   "source": [
    "# Task 3/Point 1"
   ],
   "metadata": {
    "collapsed": false
   },
   "id": "9d73e058ba9ef130"
  },
  {
   "cell_type": "markdown",
   "source": [
    "## Data classification using images"
   ],
   "metadata": {
    "collapsed": false
   },
   "id": "525fc43536ebb634"
  },
  {
   "cell_type": "markdown",
   "source": [
    "The goal is to use the training images to train a convolutional network like the one we saw in class. View Convolutional Neural NETS notebook"
   ],
   "metadata": {
    "collapsed": false
   },
   "id": "7e14c40a8313038b"
  },
  {
   "cell_type": "code",
   "outputs": [
    {
     "name": "stderr",
     "output_type": "stream",
     "text": [
      "\n",
      "[notice] A new release of pip is available: 23.2.1 -> 24.0\n",
      "[notice] To update, run: python.exe -m pip install --upgrade pip\n",
      "La sintaxis del comando no es correcta.\n",
      "\"cp\" no se reconoce como un comando interno o externo,\n",
      "programa o archivo por lotes ejecutable.\n",
      "\"chmod\" no se reconoce como un comando interno o externo,\n",
      "programa o archivo por lotes ejecutable.\n",
      "Traceback (most recent call last):\n",
      "  File \"<frozen runpy>\", line 198, in _run_module_as_main\n",
      "  File \"<frozen runpy>\", line 88, in _run_code\n",
      "  File \"C:\\Users\\Edy Quintero\\PythonProjects\\statistics\\statisticsTasks\\.venv\\Scripts\\kaggle.exe\\__main__.py\", line 4, in <module>\n",
      "  File \"C:\\Users\\Edy Quintero\\PythonProjects\\statistics\\statisticsTasks\\.venv\\Lib\\site-packages\\kaggle\\__init__.py\", line 7, in <module>\n",
      "    api.authenticate()\n",
      "  File \"C:\\Users\\Edy Quintero\\PythonProjects\\statistics\\statisticsTasks\\.venv\\Lib\\site-packages\\kaggle\\api\\kaggle_api_extended.py\", line 398, in authenticate\n",
      "    raise IOError('Could not find {}. Make sure it\\'s located in'\n",
      "OSError: Could not find kaggle.json. Make sure it's located in C:\\Users\\Edy Quintero\\.kaggle. Or use the environment method.\n",
      "\"unzip\" no se reconoce como un comando interno o externo,\n",
      "programa o archivo por lotes ejecutable.\n"
     ]
    }
   ],
   "source": [
    "! pip install -q kaggle\n",
    "! mkdir ~/.kaggle\n",
    "! cp kaggle.json ~/.kaggle/\n",
    "! chmod 600 ~/.kaggle/kaggle.json\n",
    "\n",
    "!kaggle competitions download -c uco-plant-seedlings-classification-01-2024\n",
    "\n",
    "!unzip uco-plant-seedlings-classification-01-2024"
   ],
   "metadata": {
    "collapsed": false,
    "ExecuteTime": {
     "end_time": "2024-05-16T04:25:20.700286300Z",
     "start_time": "2024-05-16T04:25:17.241246400Z"
    }
   },
   "id": "ab614ff6080a218a",
   "execution_count": 10
  },
  {
   "cell_type": "code",
   "execution_count": 8,
   "id": "initial_id",
   "metadata": {
    "collapsed": true,
    "ExecuteTime": {
     "end_time": "2024-05-16T04:21:25.115593900Z",
     "start_time": "2024-05-16T04:21:24.965609400Z"
    }
   },
   "outputs": [
    {
     "ename": "ModuleNotFoundError",
     "evalue": "No module named 'distutils'",
     "output_type": "error",
     "traceback": [
      "\u001B[1;31m---------------------------------------------------------------------------\u001B[0m",
      "\u001B[1;31mModuleNotFoundError\u001B[0m                       Traceback (most recent call last)",
      "Cell \u001B[1;32mIn[8], line 1\u001B[0m\n\u001B[1;32m----> 1\u001B[0m \u001B[38;5;28;01mimport\u001B[39;00m \u001B[38;5;21;01mtensorflow\u001B[39;00m \u001B[38;5;28;01mas\u001B[39;00m \u001B[38;5;21;01mtf\u001B[39;00m\n\u001B[0;32m      2\u001B[0m \u001B[38;5;28;01mimport\u001B[39;00m \u001B[38;5;21;01mos\u001B[39;00m\n\u001B[0;32m      4\u001B[0m folderTrain \u001B[38;5;241m=\u001B[39m \u001B[38;5;124m\"\u001B[39m\u001B[38;5;124mdata/train\u001B[39m\u001B[38;5;124m\"\u001B[39m\n",
      "File \u001B[1;32m~\\PythonProjects\\statistics\\statisticsTasks\\.venv\\Lib\\site-packages\\tensorflow\\__init__.py:30\u001B[0m\n\u001B[0;32m     15\u001B[0m \u001B[38;5;124;03m\"\"\"\u001B[39;00m\n\u001B[0;32m     16\u001B[0m \u001B[38;5;124;03mTop-level module of TensorFlow. By convention, we refer to this module as\u001B[39;00m\n\u001B[0;32m     17\u001B[0m \u001B[38;5;124;03m`tf` instead of `tensorflow`, following the common practice of importing\u001B[39;00m\n\u001B[1;32m   (...)\u001B[0m\n\u001B[0;32m     26\u001B[0m \u001B[38;5;124;03mthis file with a file generated from [`api_template.__init__.py`](https://www.github.com/tensorflow/tensorflow/blob/master/tensorflow/api_template.__init__.py)\u001B[39;00m\n\u001B[0;32m     27\u001B[0m \u001B[38;5;124;03m\"\"\"\u001B[39;00m\n\u001B[0;32m     28\u001B[0m \u001B[38;5;66;03m# pylint: disable=g-bad-import-order,protected-access,g-import-not-at-top\u001B[39;00m\n\u001B[1;32m---> 30\u001B[0m \u001B[38;5;28;01mimport\u001B[39;00m \u001B[38;5;21;01mdistutils\u001B[39;00m \u001B[38;5;28;01mas\u001B[39;00m \u001B[38;5;21;01m_distutils\u001B[39;00m\n\u001B[0;32m     31\u001B[0m \u001B[38;5;28;01mimport\u001B[39;00m \u001B[38;5;21;01mimportlib\u001B[39;00m\n\u001B[0;32m     32\u001B[0m \u001B[38;5;28;01mimport\u001B[39;00m \u001B[38;5;21;01minspect\u001B[39;00m \u001B[38;5;28;01mas\u001B[39;00m \u001B[38;5;21;01m_inspect\u001B[39;00m\n",
      "\u001B[1;31mModuleNotFoundError\u001B[0m: No module named 'distutils'"
     ]
    }
   ],
   "source": [
    "import tensorflow as tf\n",
    "import os\n",
    "\n",
    "folderTrain = \"data/train\"\n",
    "folderTest = \"data/test\"\n",
    "\n",
    "loteSize = 32\n",
    "imageSize = (128, 128)\n",
    "\n",
    "train = tf.keras.preprocessing.image_dataset_from_directory(\n",
    "    folderTrain,\n",
    "    labels='inferred',\n",
    "    label_mode='categorical',\n",
    "    image_size=imageSize,\n",
    "    batch_size=loteSize\n",
    ")\n",
    "\n",
    "clases = train.class_names\n",
    "print(\"Clases:\", clases)\n",
    "\n",
    "fileName = os.listdir(folderTest)\n",
    "imageTest = []\n",
    "testLabel = []\n",
    "\n",
    "for fileName in fileName:\n",
    "    imageRoute = os.path.join(folderTest, fileName)\n",
    "    image = tf.keras.preprocessing.image.load_img(imageRoute, target_size=imageSize)\n",
    "    image = tf.keras.preprocessing.image.img_to_array(image)\n",
    "    imageTest.append(image)\n",
    "    testLabel.append(fileName)\n",
    "\n",
    "imageTest = tf.convert_to_tensor(imageTest)\n",
    "\n",
    "testSuite = tf.data.Dataset.from_tensor_slices((imageTest, testLabel))\n",
    "testSuite = testSuite.batch(loteSize)"
   ]
  },
  {
   "cell_type": "code",
   "outputs": [
    {
     "ename": "NameError",
     "evalue": "name 'tf' is not defined",
     "output_type": "error",
     "traceback": [
      "\u001B[1;31m---------------------------------------------------------------------------\u001B[0m",
      "\u001B[1;31mNameError\u001B[0m                                 Traceback (most recent call last)",
      "Cell \u001B[1;32mIn[7], line 1\u001B[0m\n\u001B[1;32m----> 1\u001B[0m modelo \u001B[38;5;241m=\u001B[39m \u001B[43mtf\u001B[49m\u001B[38;5;241m.\u001B[39mkeras\u001B[38;5;241m.\u001B[39mSequential([\n\u001B[0;32m      2\u001B[0m     tf\u001B[38;5;241m.\u001B[39mkeras\u001B[38;5;241m.\u001B[39mlayers\u001B[38;5;241m.\u001B[39mConv2D(\u001B[38;5;241m32\u001B[39m, (\u001B[38;5;241m3\u001B[39m,\u001B[38;5;241m3\u001B[39m), input_shape\u001B[38;5;241m=\u001B[39m(\u001B[38;5;241m128\u001B[39m, \u001B[38;5;241m128\u001B[39m, \u001B[38;5;241m3\u001B[39m), activation\u001B[38;5;241m=\u001B[39m\u001B[38;5;124m'\u001B[39m\u001B[38;5;124mrelu\u001B[39m\u001B[38;5;124m'\u001B[39m),\n\u001B[0;32m      3\u001B[0m     tf\u001B[38;5;241m.\u001B[39mkeras\u001B[38;5;241m.\u001B[39mlayers\u001B[38;5;241m.\u001B[39mMaxPooling2D(\u001B[38;5;241m2\u001B[39m,\u001B[38;5;241m2\u001B[39m),\n\u001B[0;32m      4\u001B[0m     tf\u001B[38;5;241m.\u001B[39mkeras\u001B[38;5;241m.\u001B[39mlayers\u001B[38;5;241m.\u001B[39mDropout(\u001B[38;5;241m0.2\u001B[39m),\n\u001B[0;32m      5\u001B[0m \n\u001B[0;32m      6\u001B[0m     tf\u001B[38;5;241m.\u001B[39mkeras\u001B[38;5;241m.\u001B[39mlayers\u001B[38;5;241m.\u001B[39mConv2D(\u001B[38;5;241m64\u001B[39m, (\u001B[38;5;241m3\u001B[39m,\u001B[38;5;241m3\u001B[39m), activation\u001B[38;5;241m=\u001B[39m\u001B[38;5;124m'\u001B[39m\u001B[38;5;124mrelu\u001B[39m\u001B[38;5;124m'\u001B[39m),\n\u001B[0;32m      7\u001B[0m     tf\u001B[38;5;241m.\u001B[39mkeras\u001B[38;5;241m.\u001B[39mlayers\u001B[38;5;241m.\u001B[39mMaxPooling2D(\u001B[38;5;241m2\u001B[39m,\u001B[38;5;241m2\u001B[39m),\n\u001B[0;32m      8\u001B[0m     tf\u001B[38;5;241m.\u001B[39mkeras\u001B[38;5;241m.\u001B[39mlayers\u001B[38;5;241m.\u001B[39mDropout(\u001B[38;5;241m0.2\u001B[39m),\n\u001B[0;32m      9\u001B[0m \n\u001B[0;32m     10\u001B[0m     tf\u001B[38;5;241m.\u001B[39mkeras\u001B[38;5;241m.\u001B[39mlayers\u001B[38;5;241m.\u001B[39mConv2D(\u001B[38;5;241m128\u001B[39m, (\u001B[38;5;241m3\u001B[39m,\u001B[38;5;241m3\u001B[39m), activation\u001B[38;5;241m=\u001B[39m\u001B[38;5;124m'\u001B[39m\u001B[38;5;124mrelu\u001B[39m\u001B[38;5;124m'\u001B[39m),\n\u001B[0;32m     11\u001B[0m     tf\u001B[38;5;241m.\u001B[39mkeras\u001B[38;5;241m.\u001B[39mlayers\u001B[38;5;241m.\u001B[39mMaxPooling2D(\u001B[38;5;241m2\u001B[39m,\u001B[38;5;241m2\u001B[39m),\n\u001B[0;32m     12\u001B[0m     tf\u001B[38;5;241m.\u001B[39mkeras\u001B[38;5;241m.\u001B[39mlayers\u001B[38;5;241m.\u001B[39mDropout(\u001B[38;5;241m0.2\u001B[39m),\n\u001B[0;32m     13\u001B[0m \n\u001B[0;32m     14\u001B[0m     tf\u001B[38;5;241m.\u001B[39mkeras\u001B[38;5;241m.\u001B[39mlayers\u001B[38;5;241m.\u001B[39mConv2D(\u001B[38;5;241m256\u001B[39m, (\u001B[38;5;241m3\u001B[39m,\u001B[38;5;241m3\u001B[39m), activation\u001B[38;5;241m=\u001B[39m\u001B[38;5;124m'\u001B[39m\u001B[38;5;124mrelu\u001B[39m\u001B[38;5;124m'\u001B[39m),\n\u001B[0;32m     15\u001B[0m     tf\u001B[38;5;241m.\u001B[39mkeras\u001B[38;5;241m.\u001B[39mlayers\u001B[38;5;241m.\u001B[39mMaxPooling2D(\u001B[38;5;241m2\u001B[39m,\u001B[38;5;241m2\u001B[39m),\n\u001B[0;32m     16\u001B[0m     tf\u001B[38;5;241m.\u001B[39mkeras\u001B[38;5;241m.\u001B[39mlayers\u001B[38;5;241m.\u001B[39mDropout(\u001B[38;5;241m0.2\u001B[39m),\n\u001B[0;32m     17\u001B[0m \n\u001B[0;32m     18\u001B[0m     tf\u001B[38;5;241m.\u001B[39mkeras\u001B[38;5;241m.\u001B[39mlayers\u001B[38;5;241m.\u001B[39mFlatten(),\n\u001B[0;32m     19\u001B[0m     tf\u001B[38;5;241m.\u001B[39mkeras\u001B[38;5;241m.\u001B[39mlayers\u001B[38;5;241m.\u001B[39mDense(units\u001B[38;5;241m=\u001B[39m\u001B[38;5;241m256\u001B[39m, activation\u001B[38;5;241m=\u001B[39m\u001B[38;5;124m'\u001B[39m\u001B[38;5;124mrelu\u001B[39m\u001B[38;5;124m'\u001B[39m),\n\u001B[0;32m     20\u001B[0m     tf\u001B[38;5;241m.\u001B[39mkeras\u001B[38;5;241m.\u001B[39mlayers\u001B[38;5;241m.\u001B[39mDropout(\u001B[38;5;241m0.5\u001B[39m),\n\u001B[0;32m     21\u001B[0m     tf\u001B[38;5;241m.\u001B[39mkeras\u001B[38;5;241m.\u001B[39mlayers\u001B[38;5;241m.\u001B[39mDense(\u001B[38;5;241m11\u001B[39m, activation\u001B[38;5;241m=\u001B[39m\u001B[38;5;124m'\u001B[39m\u001B[38;5;124msoftmax\u001B[39m\u001B[38;5;124m'\u001B[39m)\n\u001B[0;32m     22\u001B[0m ])\n",
      "\u001B[1;31mNameError\u001B[0m: name 'tf' is not defined"
     ]
    }
   ],
   "source": [
    "modelo = tf.keras.Sequential([\n",
    "    tf.keras.layers.Conv2D(32, (3,3), input_shape=(128, 128, 3), activation='relu'),\n",
    "    tf.keras.layers.MaxPooling2D(2,2),\n",
    "    tf.keras.layers.Dropout(0.2),\n",
    "\n",
    "    tf.keras.layers.Conv2D(64, (3,3), activation='relu'),\n",
    "    tf.keras.layers.MaxPooling2D(2,2),\n",
    "    tf.keras.layers.Dropout(0.2),\n",
    "\n",
    "    tf.keras.layers.Conv2D(128, (3,3), activation='relu'),\n",
    "    tf.keras.layers.MaxPooling2D(2,2),\n",
    "    tf.keras.layers.Dropout(0.2),\n",
    "\n",
    "    tf.keras.layers.Conv2D(256, (3,3), activation='relu'),\n",
    "    tf.keras.layers.MaxPooling2D(2,2),\n",
    "    tf.keras.layers.Dropout(0.2),\n",
    "\n",
    "    tf.keras.layers.Flatten(),\n",
    "    tf.keras.layers.Dense(units=256, activation='relu'),\n",
    "    tf.keras.layers.Dropout(0.5),\n",
    "    tf.keras.layers.Dense(11, activation='softmax')\n",
    "])"
   ],
   "metadata": {
    "collapsed": false,
    "ExecuteTime": {
     "end_time": "2024-05-16T04:21:15.782332600Z",
     "start_time": "2024-05-16T04:21:15.745377400Z"
    }
   },
   "id": "35bfd49625e1bba0",
   "execution_count": 7
  },
  {
   "cell_type": "code",
   "outputs": [],
   "source": [
    "modelo.compile(optimizer='adam', loss='categorical_crossentropy', metrics=['accuracy'])\n",
    "\n",
    "historial = modelo.fit(train, epochs=3,batch_size=512)"
   ],
   "metadata": {
    "collapsed": false
   },
   "id": "7f79c7769be9037e"
  },
  {
   "cell_type": "code",
   "outputs": [],
   "source": [
    "import csv\n",
    "\n",
    "predicciones = modelo.predict(testSuite)\n",
    "\n",
    "etiquetas_predichas = [clases[prediccion.argmax()] for prediccion in predicciones]\n",
    "\n",
    "nombres_archivos_pruebas = os.listdir(folderTest)\n",
    "\n",
    "with open('resultados_pruebas.csv', mode='w', newline='') as file:\n",
    "    writer = csv.writer(file)\n",
    "    writer.writerow(['file', 'species'])\n",
    "    for nombre_archivo, etiqueta_predicha in zip(nombres_archivos_pruebas, etiquetas_predichas):\n",
    "        writer.writerow([nombre_archivo, etiqueta_predicha])"
   ],
   "metadata": {
    "collapsed": false
   },
   "id": "92adabba7156a973"
  }
 ],
 "metadata": {
  "kernelspec": {
   "display_name": "Python 3",
   "language": "python",
   "name": "python3"
  },
  "language_info": {
   "codemirror_mode": {
    "name": "ipython",
    "version": 2
   },
   "file_extension": ".py",
   "mimetype": "text/x-python",
   "name": "python",
   "nbconvert_exporter": "python",
   "pygments_lexer": "ipython2",
   "version": "2.7.6"
  }
 },
 "nbformat": 4,
 "nbformat_minor": 5
}
