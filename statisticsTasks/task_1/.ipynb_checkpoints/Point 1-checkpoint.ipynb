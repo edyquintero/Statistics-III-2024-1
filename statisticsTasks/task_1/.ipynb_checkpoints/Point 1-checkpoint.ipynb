{
 "cells": [
  {
   "cell_type": "raw",
   "source": [],
   "metadata": {
    "collapsed": false
   },
   "id": "a655861c83b02d44"
  }
 ],
 "metadata": {},
 "nbformat": 4,
 "nbformat_minor": 5
}
