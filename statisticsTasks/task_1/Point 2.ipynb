{
 "cells": [
  {
   "cell_type": "markdown",
   "id": "df787f43-f90e-4515-9276-11a0374a8ecb",
   "metadata": {},
   "source": [
    "# Task1/Point1"
   ]
  },
  {
   "cell_type": "markdown",
   "id": "e0ffdb0c-b3b9-48f0-9f89-3a9f98e35304",
   "metadata": {},
   "source": [
    "## 2. PCA. Use the data in Table 1 to calculate PCA and reduce the dimensionality of 2 dimensions to 1. For this exercise you must use the variables X1 and X2 and create a vector with a single dimension."
   ]
  },
  {
   "cell_type": "markdown",
   "id": "bf5574d9-8fa2-4ff4-8a7e-534b5cdc670a",
   "metadata": {},
   "source": [
    "### 2.1 What is the covariance matrix?"
   ]
  },
  {
   "cell_type": "code",
   "execution_count": null,
   "id": "5571a987-64f5-428d-b1be-c14a4d91f61e",
   "metadata": {},
   "outputs": [],
   "source": []
  },
  {
   "cell_type": "markdown",
   "id": "4245d00b-12be-4b0f-8e90-58dd8d7be207",
   "metadata": {},
   "source": [
    "### 2.2 What are the eigenvalues?"
   ]
  },
  {
   "cell_type": "code",
   "execution_count": null,
   "id": "a7dff692-d693-4167-8a61-36b4ad1c0012",
   "metadata": {},
   "outputs": [],
   "source": []
  },
  {
   "cell_type": "markdown",
   "id": "90d28768-3a99-4d6b-ae09-e42456ca6d1b",
   "metadata": {},
   "source": [
    "### 2.3 What is the variance explained by the eigenvalue?"
   ]
  },
  {
   "cell_type": "code",
   "execution_count": null,
   "id": "972ba54f-1005-43ac-8e49-7f255128c54b",
   "metadata": {},
   "outputs": [],
   "source": []
  },
  {
   "cell_type": "markdown",
   "id": "abf1c803-5389-4f85-8df2-ed5ae1e54312",
   "metadata": {},
   "source": [
    "### 2.4 What is the value of the eigenvector?"
   ]
  },
  {
   "cell_type": "code",
   "execution_count": null,
   "id": "63547234-f4db-43bd-91b1-1870312510aa",
   "metadata": {},
   "outputs": [],
   "source": []
  },
  {
   "cell_type": "markdown",
   "id": "918bede2-f0e1-4e43-b3ad-766e8bc87435",
   "metadata": {},
   "source": [
    "### 2.5 What is the projected matrix?"
   ]
  },
  {
   "cell_type": "code",
   "execution_count": null,
   "id": "cbe1b269-f17d-4781-b32d-3eecaf369948",
   "metadata": {},
   "outputs": [],
   "source": []
  },
  {
   "cell_type": "markdown",
   "id": "88a8d9f4-868b-413e-a70f-a3d6eeab6af4",
   "metadata": {},
   "source": [
    "### 2.6 What is the error or difference between the projected matrix?"
   ]
  },
  {
   "cell_type": "code",
   "execution_count": null,
   "id": "fd9f926c-9d30-4e00-8c59-bae147f181b7",
   "metadata": {},
   "outputs": [],
   "source": []
  }
 ],
 "metadata": {
  "kernelspec": {
   "display_name": "",
   "name": ""
  },
  "language_info": {
   "name": ""
  }
 },
 "nbformat": 4,
 "nbformat_minor": 5
}
