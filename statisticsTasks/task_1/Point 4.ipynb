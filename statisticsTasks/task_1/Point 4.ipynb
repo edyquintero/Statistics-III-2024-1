{
 "cells": [
  {
   "cell_type": "code",
   "execution_count": null,
   "id": "f0fc0dbd-de35-44c4-8e50-23ed70acf0a8",
   "metadata": {},
   "outputs": [],
   "source": []
  }
 ],
 "metadata": {
  "kernelspec": {
   "display_name": "",
   "name": ""
  },
  "language_info": {
   "name": ""
  }
 },
 "nbformat": 4,
 "nbformat_minor": 5
}
