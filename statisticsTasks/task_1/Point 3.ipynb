{
 "cells": [
  {
   "cell_type": "markdown",
   "id": "b80515de-d73c-4b78-8bc1-81b928d14cfb",
   "metadata": {},
   "source": [
    "# Task1/Point3"
   ]
  },
  {
   "cell_type": "markdown",
   "id": "203df909-bb2f-4205-a951-5d3c95e34329",
   "metadata": {},
   "source": [
    "## 3. PCA (20%) Load the face dataset that is in the data folder of task 2 (see notebook https://github.com/jdramirez/UCO_ML_AI/blob/master/src/notebook/PCA.ipynb):"
   ]
  },
  {
   "cell_type": "markdown",
   "id": "640a50ef-cbe8-4763-a5fe-c3a290b8da35",
   "metadata": {},
   "source": [
    "### 3.1 . Calculate the mean face. What is the face with the average of the pixels and visualize it."
   ]
  },
  {
   "cell_type": "code",
   "execution_count": null,
   "id": "35a3e3e4-e3a0-41d5-b91c-a63ef4ea47b1",
   "metadata": {},
   "outputs": [],
   "source": []
  },
  {
   "cell_type": "markdown",
   "id": "2f870599-d8db-489c-939e-f42264c98fc0",
   "metadata": {},
   "source": [
    "### 2. Center the data, use PCA. How many components should be used to maintain 90% of the characteristics? Create a table for show the first 5 faces using, the mean face + the data reconstructed using the first component, then with 3 components, then with the first 20 components, then with the components that explain 95% of the variance and finally with the number of components that has 99% of the variance. It can conclude from the results?"
   ]
  },
  {
   "cell_type": "code",
   "execution_count": null,
   "id": "a6acc1d1-37c5-4efe-a4ca-f9d95b79254d",
   "metadata": {},
   "outputs": [],
   "source": []
  }
 ],
 "metadata": {
  "kernelspec": {
   "display_name": "Python 3 (ipykernel)",
   "language": "python",
   "name": "python3"
  },
  "language_info": {
   "codemirror_mode": {
    "name": "ipython",
    "version": 3
   },
   "file_extension": ".py",
   "mimetype": "text/x-python",
   "name": "python",
   "nbconvert_exporter": "python",
   "pygments_lexer": "ipython3",
   "version": "3.12.2"
  }
 },
 "nbformat": 4,
 "nbformat_minor": 5
}
