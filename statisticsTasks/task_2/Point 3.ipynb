{
 "cells": [
  {
   "cell_type": "markdown",
   "source": [
    "# Point 3 - Create a KNN model (20%)"
   ],
   "metadata": {
    "collapsed": false
   },
   "id": "dc65834478e56a47"
  },
  {
   "cell_type": "markdown",
   "source": [
    "## Use the data to create a KNN model to predict the score per student. Use the dataset from the data folder. ‘Pruebas_saber_2023.xlsx’ and the same transformations of the previous point"
   ],
   "metadata": {
    "collapsed": false
   },
   "id": "5714d9d2d264e785"
  },
  {
   "cell_type": "markdown",
   "source": [
    "### 1. Test with 5, 10, 20 and 30 neighbors. Select the number of neighbors based on the MSE test error."
   ],
   "metadata": {
    "collapsed": false
   },
   "id": "ca806d77921b06fc"
  },
  {
   "cell_type": "code",
   "outputs": [],
   "source": [
    "from sklearn.model_selection import train_test_split\n",
    "from sklearn.preprocessing import StandardScaler\n",
    "from sklearn.impute import SimpleImputer\n",
    "from sklearn.neighbors import KNeighborsRegressor\n",
    "import pandas as pd\n",
    "import numpy as np"
   ],
   "metadata": {
    "collapsed": false,
    "ExecuteTime": {
     "end_time": "2024-04-23T01:56:27.521053200Z",
     "start_time": "2024-04-23T01:56:27.509102100Z"
    }
   },
   "id": "170cd6ce3244fa32",
   "execution_count": 9
  },
  {
   "cell_type": "code",
   "outputs": [],
   "source": [
    "df = pd.read_excel(\"./data/point2/pruebas_saber_2023_var_exploration.xlsx\")\n",
    "data_columns = [\n",
    "    'DOCUMENTO_CC',\n",
    "    'GENERO_MASCULINO',\n",
    "    'EDAD',\n",
    "    'RESIDE_CABECERA_MUNICIPAL',\n",
    "    'TIENE_PAREJA',\n",
    "    'PAGO_PROPIO',\n",
    "    'CURSO_PREPARACION',\n",
    "    'SIMULACRO',\n",
    "    'SEMESTRE',\n",
    "    'ESTRATO',\n",
    "    'INTERNET',\n",
    "    'COMPUTADOR',\n",
    "    'ESTU_INSE_INDIVIDUAL',\n",
    "    'ESTU_NSE_INDIVIDUAL',\n",
    "    'ESTU_NSE_IES',\n",
    "    'MOD_LECTURA_CRITICA_PUNT'\n",
    "]\n",
    "\n",
    "imputer = SimpleImputer(strategy='median')\n",
    "imputed_data = imputer.fit_transform(df[data_columns])\n",
    "imputed_data = pd.DataFrame(imputed_data, columns=data_columns)\n",
    "study_variable = imputed_data.drop(\"MOD_LECTURA_CRITICA_PUNT\", axis=1)\n",
    "goal_variable = imputed_data[\"MOD_LECTURA_CRITICA_PUNT\"]\n",
    "study_variable_train, study_variable_test, goal_variable_train, goal_variable_test = train_test_split(study_variable,\n",
    "                                                                                                      goal_variable,\n",
    "                                                                                                      test_size=0.2,\n",
    "                                                                                                      random_state=42)\n",
    "scaler = StandardScaler()\n",
    "study_variable_train_scaled = scaler.fit_transform(study_variable_train)\n",
    "study_variable_test_scaled = scaler.transform(study_variable_test)\n"
   ],
   "metadata": {
    "collapsed": false,
    "ExecuteTime": {
     "end_time": "2024-04-23T04:34:57.719566200Z",
     "start_time": "2024-04-23T04:34:36.426657600Z"
    }
   },
   "id": "f55b23ee3c4efa7b",
   "execution_count": 26
  },
  {
   "cell_type": "code",
   "outputs": [
    {
     "name": "stdout",
     "output_type": "stream",
     "text": [
      "\n",
      "KNN MODEL WITH 5 NEIGHBORS\n",
      "MSE TRAIN:  692.8197282598942\n",
      "r2_train:  0.2893944465647189\n",
      "mepa_train:  15.645269546135774\n",
      "\n",
      "KNN MODEL WITH 10 NEIGHBORS\n",
      "MSE TRAIN:  775.6611496006462\n",
      "r2_train:  0.204426349297824\n",
      "mepa_train:  16.67556502929971\n",
      "\n",
      "KNN MODEL WITH 20 NEIGHBORS\n"
     ]
    }
   ],
   "source": [
    "from sklearn.metrics import mean_squared_error, r2_score\n",
    "\n",
    "neighbors = [5, 10, 20, 30]\n",
    "for neighbor in neighbors:\n",
    " print(f\"\\nKNN MODEL WITH {neighbor} NEIGHBORS\")\n",
    " knn_model = KNeighborsRegressor(n_neighbors=neighbor)\n",
    " knn_model.fit(study_variable_train_scaled, goal_variable_train)\n",
    " goal_variable_train_predict = knn_model.predict(study_variable_train_scaled)\n",
    " goal_variable_test_predict = knn_model.predict(study_variable_test_scaled)\n",
    " \n",
    " mse_train = mean_squared_error(goal_variable_train, goal_variable_train_predict)\n",
    " r2_train = r2_score(goal_variable_train, goal_variable_train_predict)\n",
    " \n",
    " def mean_absolute_percentage_error(y_true, y_pred):\n",
    "    errors = np.abs((y_true - y_pred) / y_true)\n",
    "    errors = errors[~np.isnan(errors) & ~np.isinf(errors)]\n",
    "    mape = np.mean(errors) * 100\n",
    "    return mape\n",
    " \n",
    " mape_train = mean_absolute_percentage_error(goal_variable_train, goal_variable_train_predict)\n",
    " \n",
    " print(\"MSE TRAIN: \", mse_train)\n",
    " print(\"r2_train: \", r2_train)\n",
    " print(\"mepa_train: \", mape_train)"
   ],
   "metadata": {
    "collapsed": false,
    "is_executing": true,
    "ExecuteTime": {
     "start_time": "2024-04-23T04:35:09.581332Z"
    }
   },
   "id": "c4cde28327f6ebb9",
   "execution_count": null
  },
  {
   "cell_type": "markdown",
   "source": [
    "For sure, choosing the best model becomes very very difficult, but when we start to analyze and observe how the results behave in both sets, the P-Value regression model seems to have much more stability. While it is very noticeable that, KNN models show large differences between the training and test set in terms of accuracy and a few other aspects."
   ],
   "metadata": {
    "collapsed": false
   },
   "id": "96984c770d35c0d4"
  },
  {
   "cell_type": "markdown",
   "source": [
    "Por tiempo de ejecusión el anterior codigo donde se hacia el MSE el R2 y el mapa, no esta completamente ejecutado 😥😥😥"
   ],
   "metadata": {
    "collapsed": false
   },
   "id": "6e35df68e170db84"
  },
  {
   "cell_type": "code",
   "outputs": [],
   "source": [],
   "metadata": {
    "collapsed": false
   },
   "id": "81d77065cdefae50"
  }
 ],
 "metadata": {
  "kernelspec": {
   "display_name": "Python 3",
   "language": "python",
   "name": "python3"
  },
  "language_info": {
   "codemirror_mode": {
    "name": "ipython",
    "version": 2
   },
   "file_extension": ".py",
   "mimetype": "text/x-python",
   "name": "python",
   "nbconvert_exporter": "python",
   "pygments_lexer": "ipython2",
   "version": "2.7.6"
  }
 },
 "nbformat": 4,
 "nbformat_minor": 5
}
