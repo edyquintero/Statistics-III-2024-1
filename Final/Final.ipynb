{
  "nbformat": 4,
  "nbformat_minor": 0,
  "metadata": {
    "colab": {
      "provenance": []
    },
    "kernelspec": {
      "name": "python3",
      "display_name": "Python 3"
    },
    "language_info": {
      "name": "python"
    }
  },
  "cells": [
    {
      "cell_type": "markdown",
      "source": [
        "# Librerias necesarias y dataFrame"
      ],
      "metadata": {
        "id": "AT_NzI1wZccY"
      }
    },
    {
      "cell_type": "code",
      "source": [
        "import pandas as pd\n",
        "import numpy as np\n",
        "import unicodedata\n",
        "from collections import defaultdict\n",
        "from nltk.corpus import stopwords\n",
        "from nltk.tokenize.toktok import ToktokTokenizer\n",
        "from sklearn.feature_extraction.text import TfidfVectorizer\n",
        "from sklearn.linear_model import LogisticRegression\n",
        "from sklearn.metrics import accuracy_score, f1_score, precision_score, recall_score, confusion_matrix\n",
        "import matplotlib.pyplot as plt\n",
        "import seaborn as sns\n",
        "import nltk\n",
        "\n",
        "data = {\n",
        "    'Texto': [\n",
        "        \"Aprendi regresiones\", \"El profe no da mas tiempo en las tareas\",\n",
        "        \"Las office hours son en un horario muy maluco y no el profe no contesta los correos\",\n",
        "        \"Tareas muy largas y toca dedicar mucho tiempo\", \"Aprendi a utilizar imágenes\",\n",
        "        \"El profe se demora en entregar las notas\", \"La tarea de clasificar las plantas me gusto\",\n",
        "        \"Los examenes son dificiles y largos\", \"Me gusta cuando el profe resuelve los problemas en excel\",\n",
        "        \"Utilizar texto es util y aprender NLP\", \"Las redes neuronales me parecen poderosas y me gusto la parte practica\",\n",
        "        \"Falto aprender mas spark\", \"Las office hours son los sabados y no me gusta madrugar\",\n",
        "        \"Aprendi python y pandas\", \"Me gusto trabajar con datos reales\", \"Aprendi que es un cluster\",\n",
        "        \"Las tareas son practicas con datos reales\", \"las derivadas son muy utiles y me gusto la matematica\",\n",
        "        \"Pandas es com un excel y me gusto\", \"es aburrido el tema y me distraigo en la parte teorica\",\n",
        "        \"Es dificl y me toco cancelar la materia\"\n",
        "    ],\n",
        "    'Sentimiento': [\n",
        "        'Positivo', 'Negativo', 'Negativo', 'Negativo', 'Positivo', 'Negativo', 'Positivo', 'Negativo',\n",
        "        'Positivo', 'Positivo', 'Positivo', 'Negativo', 'Negativo', 'Positivo', 'Positivo', 'Positivo',\n",
        "        'Positivo', 'Positivo', 'Positivo', 'Negativo', 'Negativo'\n",
        "    ]\n",
        "}\n",
        "\n",
        "df = pd.DataFrame(data)"
      ],
      "metadata": {
        "id": "-vnwnc2DZcOZ"
      },
      "execution_count": 293,
      "outputs": []
    },
    {
      "cell_type": "markdown",
      "source": [
        "# Procesar el texto antes de usarlo"
      ],
      "metadata": {
        "id": "R2nwFt6bZj5x"
      }
    },
    {
      "cell_type": "code",
      "source": [
        "nltk.download('stopwords')\n",
        "tokenizer = ToktokTokenizer()\n",
        "stopwords_spanish = set(stopwords.words('spanish'))\n",
        "\n",
        "def eliminarAcentos(texto):\n",
        "    return ''.join(c for c in unicodedata.normalize('NFKD', texto) if not unicodedata.combining(c))\n",
        "\n",
        "def preprocesarTexto(texto):\n",
        "    texto = eliminarAcentos(texto)\n",
        "    texto = texto.lower()\n",
        "    texto = re.sub(r'\\W+', ' ', texto)\n",
        "    return texto\n",
        "\n",
        "df['Texto'] = df['Texto'].apply(preprocesarTexto)"
      ],
      "metadata": {
        "colab": {
          "base_uri": "https://localhost:8080/"
        },
        "id": "FWAiONo_Zpux",
        "outputId": "3c41ad6a-1851-4d16-a7b9-8ab40c2cf0e9"
      },
      "execution_count": 294,
      "outputs": [
        {
          "output_type": "stream",
          "name": "stderr",
          "text": [
            "[nltk_data] Downloading package stopwords to /root/nltk_data...\n",
            "[nltk_data]   Package stopwords is already up-to-date!\n"
          ]
        }
      ]
    },
    {
      "cell_type": "markdown",
      "source": [
        "# Funciones para frecuencia de palabras"
      ],
      "metadata": {
        "id": "V7qRbl7AZwu-"
      }
    },
    {
      "cell_type": "code",
      "source": [
        "def contarPalabras(textos):\n",
        "    diccionarioPalabras = defaultdict(int)\n",
        "    for texto in textos:\n",
        "        palabras = tokenizer.tokenize(texto)\n",
        "        palabras = [palabra.strip() for palabra in palabras if palabra not in stopwords_spanish]\n",
        "        for palabra in palabras:\n",
        "            diccionarioPalabras[palabra] += 1\n",
        "    return diccionarioPalabras\n",
        "\n",
        "frecuenciaPalabras = contarPalabras(df['Texto'])\n",
        "palabrasOrdenadas = sorted(frecuenciaPalabras.items(), key=lambda x: x[1], reverse=True)"
      ],
      "metadata": {
        "id": "9VJ1roNUZ50-"
      },
      "execution_count": 295,
      "outputs": []
    },
    {
      "cell_type": "markdown",
      "source": [
        "# Gráfico de las palabras más usadas"
      ],
      "metadata": {
        "id": "jEoXECiyaArH"
      }
    },
    {
      "cell_type": "code",
      "source": [
        "top10Palabras = palabrasOrdenadas[:10]\n",
        "palabras, frecuencias = zip(*top10Palabras)\n",
        "\n",
        "plt.figure(figsize=(10, 6))\n",
        "sns.barplot(x=list(palabras), y=list(frecuencias))\n",
        "plt.xlabel('Palabras')\n",
        "plt.ylabel('Frecuencia')\n",
        "plt.show()"
      ],
      "metadata": {
        "colab": {
          "base_uri": "https://localhost:8080/",
          "height": 542
        },
        "id": "4UXV3e64aFDp",
        "outputId": "b4127a12-f56d-455b-e242-9f080a6bdee4"
      },
      "execution_count": 296,
      "outputs": [
        {
          "output_type": "display_data",
          "data": {
            "text/plain": [
              "<Figure size 1000x600 with 1 Axes>"
            ],
            "image/png": "[encoded data removed]"
          },
          "metadata": {}
        }
      ]
    },
    {
      "cell_type": "markdown",
      "source": [
        "# Correlación con el Sentimiento, matriz TF-IDF\n"
      ],
      "metadata": {
        "id": "VEzPF9eiaNcy"
      }
    },
    {
      "cell_type": "code",
      "source": [
        "vectorizer = TfidfVectorizer(stop_words=list(stopwords_spanish))\n",
        "tfidfMatrix = vectorizer.fit_transform(df['Texto'])\n",
        "tfidfDf = pd.DataFrame(tfidfMatrix.toarray(), columns=vectorizer.get_feature_names_out())"
      ],
      "metadata": {
        "id": "g-bU8MIPabso"
      },
      "execution_count": 297,
      "outputs": []
    },
    {
      "cell_type": "markdown",
      "source": [
        "# Sentimiento en el df y correlación"
      ],
      "metadata": {
        "id": "cAJBYmLPaikU"
      }
    },
    {
      "cell_type": "code",
      "source": [
        "df['Sentimiento'] = df['Sentimiento'].map({'Positivo': 1, 'Negativo': 0})\n",
        "\n",
        "correlacion = tfidfDf.corrwith(df['Sentimiento'])\n",
        "correlacionOrdenada = correlacion.sort_values(ascending=False)\n",
        "\n",
        "print(\"Tabla completa de correlación con el sentimiento:\")\n",
        "print(correlacionOrdenada)"
      ],
      "metadata": {
        "colab": {
          "base_uri": "https://localhost:8080/"
        },
        "id": "5txoX0j0aodq",
        "outputId": "1fcdae56-d66c-4adf-9cfc-1b4c81e32107"
      },
      "execution_count": 298,
      "outputs": [
        {
          "output_type": "stream",
          "name": "stdout",
          "text": [
            "Tabla completa de correlación con el sentimiento:\n",
            "gusto      0.479342\n",
            "aprendi    0.417412\n",
            "reales     0.280944\n",
            "datos      0.280944\n",
            "pandas     0.280300\n",
            "             ...   \n",
            "profe     -0.309545\n",
            "hours     -0.373146\n",
            "office    -0.373146\n",
            "tiempo    -0.374259\n",
            "mas       -0.374607\n",
            "Length: 65, dtype: float64\n"
          ]
        }
      ]
    },
    {
      "cell_type": "markdown",
      "source": [
        "# Ordenar la Matriz TF-IDF por el numero de uso de las palabras"
      ],
      "metadata": {
        "id": "ov8xaZjVauHN"
      }
    },
    {
      "cell_type": "code",
      "execution_count": 299,
      "metadata": {
        "colab": {
          "base_uri": "https://localhost:8080/"
        },
        "id": "8gBQsptPYvxd",
        "outputId": "2927604c-992b-40e6-9a59-4cf5596a98fd"
      },
      "outputs": [
        {
          "output_type": "stream",
          "name": "stdout",
          "text": [
            "Matriz TF-IDF ordenada:\n",
            "   gusto   aprendi     profe    tareas       mas    tiempo    office  \\\n",
            "0    0.0  0.589788  0.000000  0.000000  0.000000  0.000000  0.000000   \n",
            "1    0.0  0.000000  0.378754  0.412811  0.456719  0.456719  0.000000   \n",
            "2    0.0  0.000000  0.296079  0.000000  0.000000  0.000000  0.357026   \n",
            "3    0.0  0.000000  0.000000  0.379085  0.000000  0.419405  0.000000   \n",
            "4    0.0  0.480633  0.000000  0.000000  0.000000  0.000000  0.000000   \n",
            "\n",
            "      hours  utilizar  gusta  ...  matematica  com  aburrido  tema  distraigo  \\\n",
            "0  0.000000  0.000000    0.0  ...         0.0  0.0       0.0   0.0        0.0   \n",
            "1  0.000000  0.000000    0.0  ...         0.0  0.0       0.0   0.0        0.0   \n",
            "2  0.357026  0.000000    0.0  ...         0.0  0.0       0.0   0.0        0.0   \n",
            "3  0.000000  0.000000    0.0  ...         0.0  0.0       0.0   0.0        0.0   \n",
            "4  0.000000  0.579568    0.0  ...         0.0  0.0       0.0   0.0        0.0   \n",
            "\n",
            "   teorica  dificl  toco  cancelar  materia  \n",
            "0      0.0     0.0   0.0       0.0      0.0  \n",
            "1      0.0     0.0   0.0       0.0      0.0  \n",
            "2      0.0     0.0   0.0       0.0      0.0  \n",
            "3      0.0     0.0   0.0       0.0      0.0  \n",
            "4      0.0     0.0   0.0       0.0      0.0  \n",
            "\n",
            "[5 rows x 65 columns]\n"
          ]
        }
      ],
      "source": [
        "palabrasOrdenadasFrecuencia = [palabra for palabra, frecuencia in palabrasOrdenadas]\n",
        "tfidfDfOrdenada = tfidfDf[palabrasOrdenadasFrecuencia]\n",
        "\n",
        "print(\"Matriz TF-IDF ordenada:\")\n",
        "print(tfidfDfOrdenada.head())"
      ]
    },
    {
      "cell_type": "markdown",
      "source": [
        "# Inicializar los parámetros y funciones necesarias\n",
        ""
      ],
      "metadata": {
        "id": "rW6M71A8cBPW"
      }
    },
    {
      "cell_type": "code",
      "source": [
        "m, n = tfidfDf.shape\n",
        "W = np.zeros(n)\n",
        "b = 0\n",
        "learningRate = 0.5\n",
        "epochs = 6\n",
        "batchSize = 3\n",
        "\n",
        "def sigmoid(z):\n",
        "    return 1 / (1 + np.exp(-z))\n",
        "\n",
        "def logLoss(y_true, y_pred):\n",
        "    return - np.mean(y_true * np.log(y_pred) + (1 - y_true) * np.log(1 - y_pred))\n",
        "\n",
        "coeficientes = []"
      ],
      "metadata": {
        "id": "uHO2_mCQZYhn"
      },
      "execution_count": 300,
      "outputs": []
    },
    {
      "cell_type": "markdown",
      "source": [
        "# Implementar el gradiente descendiente"
      ],
      "metadata": {
        "id": "INQCR8OacYKC"
      }
    },
    {
      "cell_type": "code",
      "source": [
        "for epoch in range(epochs):\n",
        "    for i in range(0, m, batchSize):\n",
        "        X_batch = tfidfDf.iloc[i:i+batchSize]\n",
        "        y_batch = df['Sentimiento'].iloc[i:i+batchSize]\n",
        "\n",
        "        z = np.dot(X_batch, W) + b\n",
        "        y_pred = sigmoid(z)\n",
        "\n",
        "        loss = logLoss(y_batch, y_pred)\n",
        "\n",
        "        dw = (1 / batchSize) * np.dot(X_batch.T, (y_pred - y_batch))\n",
        "        db = (1 / batchSize) * np.sum(y_pred - y_batch)\n",
        "\n",
        "        W -= learningRate * dw\n",
        "        b -= learningRate * db\n",
        "\n",
        "        if i == 0:\n",
        "            coeficientes.append([epoch + 1] + list(W[:4]))\n",
        "\n",
        "columnas = ['Iteracion', 'b1', 'b2', 'b3', 'b4']\n",
        "tabla_coeficientes = pd.DataFrame(coeficientes, columns=columnas)\n",
        "\n",
        "print(\"Tabla de coeficientes:\")\n",
        "print(tabla_coeficientes)"
      ],
      "metadata": {
        "colab": {
          "base_uri": "https://localhost:8080/"
        },
        "id": "1lHdTY_KcVoQ",
        "outputId": "f16704b2-22ed-407c-c0af-6ff909e5e19a"
      },
      "execution_count": 301,
      "outputs": [
        {
          "output_type": "stream",
          "name": "stdout",
          "text": [
            "Tabla de coeficientes:\n",
            "   Iteracion        b1        b2        b3        b4\n",
            "0          1  0.000000  0.000000  0.049149  0.000000\n",
            "1          2 -0.044872 -0.002675  0.213427 -0.048785\n",
            "2          3 -0.089446 -0.010457  0.354937 -0.097038\n",
            "3          4 -0.132603 -0.019510  0.482920 -0.143553\n",
            "4          5 -0.174003 -0.028535  0.601069 -0.187975\n",
            "5          6 -0.213584 -0.037124  0.711116 -0.230256\n"
          ]
        }
      ]
    },
    {
      "cell_type": "markdown",
      "source": [
        "# Predicción y evaluación del modeli"
      ],
      "metadata": {
        "id": "Xkd_loBCcdeA"
      }
    },
    {
      "cell_type": "code",
      "source": [
        "z_test = np.dot(tfidfDf, W) + b\n",
        "y_pred_test = sigmoid(z_test)\n",
        "predicciones = [1 if i > 0.5 else 0 for i in y_pred_test]\n",
        "accuracy = accuracy_score(df['Sentimiento'], predicciones)\n",
        "print(f\"Accuracy: {accuracy}\")\n",
        "\n",
        "df['Predicción'] = predicciones\n",
        "\n",
        "resultado = df[['Texto', 'Sentimiento', 'Predicción']]\n",
        "print(\"Resultados de la clasificación:\")\n",
        "print(resultado)"
      ],
      "metadata": {
        "colab": {
          "base_uri": "https://localhost:8080/"
        },
        "id": "Gnml1bjmcazx",
        "outputId": "2444bba6-7fb4-423f-d780-2708219c3ad3"
      },
      "execution_count": 302,
      "outputs": [
        {
          "output_type": "stream",
          "name": "stdout",
          "text": [
            "Accuracy: 1.0\n",
            "Resultados de la clasificación:\n",
            "                                                Texto  Sentimiento  Predicción\n",
            "0                                 aprendi regresiones            1           1\n",
            "1             el profe no da mas tiempo en las tareas            0           0\n",
            "2   las office hours son en un horario muy maluco ...            0           0\n",
            "3       tareas muy largas y toca dedicar mucho tiempo            0           0\n",
            "4                         aprendi a utilizar imagenes            1           1\n",
            "5            el profe se demora en entregar las notas            0           0\n",
            "6         la tarea de clasificar las plantas me gusto            1           1\n",
            "7                 los examenes son dificiles y largos            0           0\n",
            "8   me gusta cuando el profe resuelve los problema...            1           1\n",
            "9               utilizar texto es util y aprender nlp            1           1\n",
            "10  las redes neuronales me parecen poderosas y me...            1           1\n",
            "11                           falto aprender mas spark            0           0\n",
            "12  las office hours son los sabados y no me gusta...            0           0\n",
            "13                            aprendi python y pandas            1           1\n",
            "14                 me gusto trabajar con datos reales            1           1\n",
            "15                          aprendi que es un cluster            1           1\n",
            "16          las tareas son practicas con datos reales            1           1\n",
            "17  las derivadas son muy utiles y me gusto la mat...            1           1\n",
            "18                  pandas es com un excel y me gusto            1           1\n",
            "19  es aburrido el tema y me distraigo en la parte...            0           0\n",
            "20            es dificl y me toco cancelar la materia            0           0\n"
          ]
        }
      ]
    },
    {
      "cell_type": "markdown",
      "source": [
        "# Declaración del modelo mV1_0\n",
        "#   \n",
        "# Calculos de -> f1, precision, recall y matriz de confusion"
      ],
      "metadata": {
        "id": "R2i0Urqc9SbL"
      }
    },
    {
      "cell_type": "code",
      "source": [
        "def mV1_0_model(texto, palabraClave=\"aprendi\"):\n",
        "    palabras = texto.split()\n",
        "    numPalabras = len(palabras)\n",
        "    if palabraClave in palabras:\n",
        "        numPalabraClave = palabras.count(palabraClave)\n",
        "        pPositivo = 0.5 + (numPalabraClave / numPalabras) * 0.5\n",
        "    else:\n",
        "        pPositivo = 0 + min(1, max(1 - (numPalabras / 12), 0)) * 0.5\n",
        "    return 1 if pPositivo > 0.5 else 0\n",
        "\n",
        "df['Predicción_mV1_0'] = df['Texto'].apply(mV1_0_model)\n",
        "\n",
        "y_true = df['Sentimiento']\n",
        "y_pred_mV1_0 = df['Predicción_mV1_0']\n",
        "y_pred_mV2_0 = df['Predicción']\n",
        "\n",
        "print(\"Modelo mV1_0:\")\n",
        "print(f\"F1 Score: {f1_score(y_true, y_pred_mV1_0)}\")\n",
        "print(f\"Precision: {precision_score(y_true, y_pred_mV1_0)}\")\n",
        "print(f\"Recall: {recall_score(y_true, y_pred_mV1_0)}\")\n",
        "print(\"Matriz de Confusión:\\n\", confusion_matrix(y_true, y_pred_mV1_0))\n",
        "\n",
        "print(\"\\nModelo mV2_0:\")\n",
        "print(f\"F1 Score: {f1_score(y_true, y_pred_mV2_0)}\")\n",
        "print(f\"Precision: {precision_score(y_true, y_pred_mV2_0)}\")\n",
        "print(f\"Recall: {recall_score(y_true, y_pred_mV2_0)}\")\n",
        "print(\"Matriz de Confusión:\\n\", confusion_matrix(y_true, y_pred_mV2_0))"
      ],
      "metadata": {
        "colab": {
          "base_uri": "https://localhost:8080/"
        },
        "id": "xWyZWhBOfkfx",
        "outputId": "c84a7a47-e273-4ac2-eefe-b3337d2d2f1f"
      },
      "execution_count": 303,
      "outputs": [
        {
          "output_type": "stream",
          "name": "stdout",
          "text": [
            "Modelo mV1_0:\n",
            "F1 Score: 0.5\n",
            "Precision: 1.0\n",
            "Recall: 0.3333333333333333\n",
            "Matriz de Confusión:\n",
            " [[9 0]\n",
            " [8 4]]\n",
            "\n",
            "Modelo mV2_0:\n",
            "F1 Score: 1.0\n",
            "Precision: 1.0\n",
            "Recall: 1.0\n",
            "Matriz de Confusión:\n",
            " [[ 9  0]\n",
            " [ 0 12]]\n"
          ]
        }
      ]
    },
    {
      "cell_type": "markdown",
      "source": [
        "# Creación del GainChart"
      ],
      "metadata": {
        "id": "SAfnhRut9oZ5"
      }
    },
    {
      "cell_type": "code",
      "source": [
        "def gainChart(y_true, y_scores, model_name):\n",
        "    sortedIndices = np.argsort(y_scores)[::-1]\n",
        "    sortedTrueLabels = np.array(y_true)[sortedIndices]\n",
        "    acumulado = np.cumsum(sortedTrueLabels) / np.sum(sortedTrueLabels)\n",
        "    total = np.arange(1, len(y_true) + 1) / len(y_true)\n",
        "    plt.plot(total, acumulado, label=model_name)\n",
        "\n",
        "p_positivo_mV1_0 = df['Texto'].apply(lambda texto: 0.5 + (texto.split().count(\"aprendi\") / len(texto.split())) * 0.5 if \"aprendi\" in texto.split() else 0 + min(1, max(1 - (len(texto.split()) / 12), 0)) * 0.5)\n",
        "p_positivo_mV2_0 = sigmoid(np.dot(tfidfDf, W) + b)\n",
        "\n",
        "plt.figure(figsize=(10, 6))\n",
        "gainChart(y_true, p_positivo_mV1_0, \"mV1_0\")\n",
        "gainChart(y_true, p_positivo_mV2_0, \"mV2_0\")\n",
        "plt.plot([0, 1], [0, 1], 'k--', label=\"Modelo Aleatorio\")\n",
        "plt.title('GainChart')\n",
        "plt.xlabel('Proporción de Datos')\n",
        "plt.ylabel('Proporción Acumulada de Verdaderos Positivos')\n",
        "plt.legend()\n",
        "plt.show()"
      ],
      "metadata": {
        "colab": {
          "base_uri": "https://localhost:8080/",
          "height": 565
        },
        "id": "dQuZpGj8vlyW",
        "outputId": "ce792e69-3535-4fd2-ec0c-85f96a8d2d09"
      },
      "execution_count": 304,
      "outputs": [
        {
          "output_type": "display_data",
          "data": {
            "text/plain": [
              "<Figure size 1000x600 with 1 Axes>"
            ],
            "image/png": "[encoded data removed]"
          },
          "metadata": {}
        }
      ]
    },
    {
      "cell_type": "markdown",
      "source": [
        "# Modelo en python utilizando las librerías"
      ],
      "metadata": {
        "id": "z_Bwm3_l97FN"
      }
    },
    {
      "cell_type": "code",
      "source": [
        "logistic_model = LogisticRegression()\n",
        "logistic_model.fit(tfidfDf, df['Sentimiento'])"
      ],
      "metadata": {
        "colab": {
          "base_uri": "https://localhost:8080/",
          "height": 74
        },
        "id": "_1Cz0Q8py3ip",
        "outputId": "58770f08-c182-4992-9627-7b65ea3809ff"
      },
      "execution_count": 305,
      "outputs": [
        {
          "output_type": "execute_result",
          "data": {
            "text/plain": [
              "LogisticRegression()"
            ],
            "text/html": [
              "<style>#sk-container-id-11 {color: black;background-color: white;}#sk-container-id-11 pre{padding: 0;}#sk-container-id-11 div.sk-toggleable {background-color: white;}#sk-container-id-11 label.sk-toggleable__label {cursor: pointer;display: block;width: 100%;margin-bottom: 0;padding: 0.3em;box-sizing: border-box;text-align: center;}#sk-container-id-11 label.sk-toggleable__label-arrow:before {content: \"▸\";float: left;margin-right: 0.25em;color: #696969;}#sk-container-id-11 label.sk-toggleable__label-arrow:hover:before {color: black;}#sk-container-id-11 div.sk-estimator:hover label.sk-toggleable__label-arrow:before {color: black;}#sk-container-id-11 div.sk-toggleable__content {max-height: 0;max-width: 0;overflow: hidden;text-align: left;background-color: #f0f8ff;}#sk-container-id-11 div.sk-toggleable__content pre {margin: 0.2em;color: black;border-radius: 0.25em;background-color: #f0f8ff;}#sk-container-id-11 input.sk-toggleable__control:checked~div.sk-toggleable__content {max-height: 200px;max-width: 100%;overflow: auto;}#sk-container-id-11 input.sk-toggleable__control:checked~label.sk-toggleable__label-arrow:before {content: \"▾\";}#sk-container-id-11 div.sk-estimator input.sk-toggleable__control:checked~label.sk-toggleable__label {background-color: #d4ebff;}#sk-container-id-11 div.sk-label input.sk-toggleable__control:checked~label.sk-toggleable__label {background-color: #d4ebff;}#sk-container-id-11 input.sk-hidden--visually {border: 0;clip: rect(1px 1px 1px 1px);clip: rect(1px, 1px, 1px, 1px);height: 1px;margin: -1px;overflow: hidden;padding: 0;position: absolute;width: 1px;}#sk-container-id-11 div.sk-estimator {font-family: monospace;background-color: #f0f8ff;border: 1px dotted black;border-radius: 0.25em;box-sizing: border-box;margin-bottom: 0.5em;}#sk-container-id-11 div.sk-estimator:hover {background-color: #d4ebff;}#sk-container-id-11 div.sk-parallel-item::after {content: \"\";width: 100%;border-bottom: 1px solid gray;flex-grow: 1;}#sk-container-id-11 div.sk-label:hover label.sk-toggleable__label {background-color: #d4ebff;}#sk-container-id-11 div.sk-serial::before {content: \"\";position: absolute;border-left: 1px solid gray;box-sizing: border-box;top: 0;bottom: 0;left: 50%;z-index: 0;}#sk-container-id-11 div.sk-serial {display: flex;flex-direction: column;align-items: center;background-color: white;padding-right: 0.2em;padding-left: 0.2em;position: relative;}#sk-container-id-11 div.sk-item {position: relative;z-index: 1;}#sk-container-id-11 div.sk-parallel {display: flex;align-items: stretch;justify-content: center;background-color: white;position: relative;}#sk-container-id-11 div.sk-item::before, #sk-container-id-11 div.sk-parallel-item::before {content: \"\";position: absolute;border-left: 1px solid gray;box-sizing: border-box;top: 0;bottom: 0;left: 50%;z-index: -1;}#sk-container-id-11 div.sk-parallel-item {display: flex;flex-direction: column;z-index: 1;position: relative;background-color: white;}#sk-container-id-11 div.sk-parallel-item:first-child::after {align-self: flex-end;width: 50%;}#sk-container-id-11 div.sk-parallel-item:last-child::after {align-self: flex-start;width: 50%;}#sk-container-id-11 div.sk-parallel-item:only-child::after {width: 0;}#sk-container-id-11 div.sk-dashed-wrapped {border: 1px dashed gray;margin: 0 0.4em 0.5em 0.4em;box-sizing: border-box;padding-bottom: 0.4em;background-color: white;}#sk-container-id-11 div.sk-label label {font-family: monospace;font-weight: bold;display: inline-block;line-height: 1.2em;}#sk-container-id-11 div.sk-label-container {text-align: center;}#sk-container-id-11 div.sk-container {/* jupyter's `normalize.less` sets `[hidden] { display: none; }` but bootstrap.min.css set `[hidden] { display: none !important; }` so we also need the `!important` here to be able to override the default hidden behavior on the sphinx rendered scikit-learn.org. See: https://github.com/scikit-learn/scikit-learn/issues/21755 */display: inline-block !important;position: relative;}#sk-container-id-11 div.sk-text-repr-fallback {display: none;}</style><div id=\"sk-container-id-11\" class=\"sk-top-container\"><div class=\"sk-text-repr-fallback\"><pre>LogisticRegression()</pre><b>In a Jupyter environment, please rerun this cell to show the HTML representation or trust the notebook. <br />On GitHub, the HTML representation is unable to render, please try loading this page with nbviewer.org.</b></div><div class=\"sk-container\" hidden><div class=\"sk-item\"><div class=\"sk-estimator sk-toggleable\"><input class=\"sk-toggleable__control sk-hidden--visually\" id=\"sk-estimator-id-11\" type=\"checkbox\" checked><label for=\"sk-estimator-id-11\" class=\"sk-toggleable__label sk-toggleable__label-arrow\">LogisticRegression</label><div class=\"sk-toggleable__content\"><pre>LogisticRegression()</pre></div></div></div></div></div>"
            ]
          },
          "metadata": {},
          "execution_count": 305
        }
      ]
    },
    {
      "cell_type": "markdown",
      "source": [
        "# Tabla de coeficientes"
      ],
      "metadata": {
        "id": "paYn3KDj-EiY"
      }
    },
    {
      "cell_type": "code",
      "source": [
        "coeficientes = pd.DataFrame({\n",
        "    'Palabra': vectorizer.get_feature_names_out(),\n",
        "    'Coeficiente': logistic_model.coef_[0]\n",
        "})\n",
        "\n",
        "coeficientes = coeficientes.reindex(coeficientes.Coeficiente.abs().sort_values(ascending=False).index)\n",
        "print(\"Tabla de coeficientes:\")\n",
        "print(coeficientes.head(10))"
      ],
      "metadata": {
        "colab": {
          "base_uri": "https://localhost:8080/"
        },
        "id": "HqOyCLnI6mIX",
        "outputId": "060980bb-451b-4d4c-8112-bcd454bf8bac"
      },
      "execution_count": 306,
      "outputs": [
        {
          "output_type": "stream",
          "name": "stdout",
          "text": [
            "Tabla de coeficientes:\n",
            "     Palabra  Coeficiente\n",
            "2    aprendi     0.648478\n",
            "22     gusto     0.561470\n",
            "30       mas    -0.389881\n",
            "58    tiempo    -0.363425\n",
            "36    office    -0.330996\n",
            "24     hours    -0.330996\n",
            "47    reales     0.325235\n",
            "10     datos     0.325235\n",
            "37    pandas     0.322050\n",
            "64  utilizar     0.321128\n"
          ]
        }
      ]
    },
    {
      "cell_type": "markdown",
      "source": [
        "# Grafico de coeficinetes"
      ],
      "metadata": {
        "id": "zYJz0_kS-HUu"
      }
    },
    {
      "cell_type": "code",
      "source": [
        "plt.figure(figsize=(10, 6))\n",
        "sns.barplot(x='Coeficiente', y='Palabra', data=coeficientes.head(10))\n",
        "plt.title('Top 10 en regresión logistica')\n",
        "plt.show()"
      ],
      "metadata": {
        "colab": {
          "base_uri": "https://localhost:8080/",
          "height": 565
        },
        "id": "YeIwBhta6qoq",
        "outputId": "8dcd8a41-01e3-43c1-effb-03adb42cd33a"
      },
      "execution_count": 307,
      "outputs": [
        {
          "output_type": "display_data",
          "data": {
            "text/plain": [
              "<Figure size 1000x600 with 1 Axes>"
            ],
            "image/png": "[encoded data removed]"
          },
          "metadata": {}
        }
      ]
    },
    {
      "cell_type": "code",
      "source": [],
      "metadata": {
        "id": "mMpyCjdJ95JX"
      },
      "execution_count": 307,
      "outputs": []
    }
  ]
}